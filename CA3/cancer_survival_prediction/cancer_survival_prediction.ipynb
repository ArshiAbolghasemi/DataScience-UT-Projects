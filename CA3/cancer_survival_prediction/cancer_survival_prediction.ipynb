{
  "nbformat": 4,
  "nbformat_minor": 0,
  "metadata": {
    "colab": {
      "provenance": [],
      "collapsed_sections": [
        "TN4qD2DW8Ord"
      ],
      "toc_visible": true
    },
    "kernelspec": {
      "name": "python3",
      "display_name": "Python 3"
    },
    "language_info": {
      "name": "python"
    }
  },
  "cells": [
    {
      "cell_type": "markdown",
      "source": [
        ">[1. Introduction](#scrollTo=lcnVfOsB3Eea)\n",
        "\n",
        ">>[1.1 Objective](#scrollTo=TN4qD2DW8Ord)\n",
        "\n",
        ">>[1.2 Dataset Overview](#scrollTo=UiMUQRRqQxef)\n",
        "\n",
        ">[2. Environment Setup](#scrollTo=d76DDjVx5NU3)\n",
        "\n",
        ">>[2.1 Import Libraries](#scrollTo=fThtICyR5744)\n",
        "\n",
        ">>[2.2 Configuration](#scrollTo=--RF5Rpb-dKF)\n",
        "\n",
        ">[3. Data Exploration and Understanding](#scrollTo=WT5FwGyE6Qa2)\n",
        "\n",
        ">>[3.1 Load the Data](#scrollTo=Q8-ZxHR-8BJN)\n",
        "\n",
        ">>[3.2 Summary Statistics](#scrollTo=WoEnqYGD93NK)\n",
        "\n",
        ">>[3.3 Target Variable Analysis](#scrollTo=W4UMyrQHEALz)\n",
        "\n",
        ">>[3.4 Feature-Target Relationships](#scrollTo=_lPAEXnsE2Kv)\n",
        "\n",
        ">>>[3.4.1 Demographic Features](#scrollTo=9ZvkzaIkE-fX)\n",
        "\n",
        ">>>[3.4.2 Medical Features](#scrollTo=zA2pvwa3Hr4M)\n",
        "\n",
        ">>>[3.4.3 Treatment History](#scrollTo=3tTuPHvaTlvL)\n",
        "\n",
        ">>>[3.4.4 Lifestyle Features](#scrollTo=GB1uPWxxSM0O)\n",
        "\n",
        ">>[3.5 Correlation Analysis](#scrollTo=D_oYI4_qT-sw)\n",
        "\n",
        ">>[3.6 Cramer's V Analysis](#scrollTo=4aSrXM9LYnuX)\n",
        "\n",
        ">[4. Preprocessing and Feature Engineering](#scrollTo=PZHFLOSbFvHZ)\n",
        "\n",
        ">>[4.1 Split Train Test Data](#scrollTo=GWchRkrMBH8B)\n",
        "\n",
        ">>[4.2 Handle Missing Values](#scrollTo=jv9_WKPZYLjW)\n",
        "\n",
        ">>[4.3 Scaling and Encoding](#scrollTo=xAVxcKoUZYmP)\n",
        "\n",
        ">>[4.4 Feature Selection](#scrollTo=iXe1by8PW5OG)\n",
        "\n",
        ">>>[4.4.1 Univariate Feature Selection](#scrollTo=JC_N8hlJfAfd)\n",
        "\n",
        ">>>[4.4.2 Mutual Information Selection](#scrollTo=m7znEjXsfId_)\n",
        "\n",
        ">>>[4.3.3 Random Forest Feature Importance](#scrollTo=UFYhMMHhfdBL)\n",
        "\n",
        ">[5. Model Implementation and Evaluation](#scrollTo=t8YY0yDxgTku)\n",
        "\n"
      ],
      "metadata": {
        "colab_type": "toc",
        "id": "tGdr3XtvMtPu"
      }
    },
    {
      "cell_type": "markdown",
      "source": [
        "# **1. Introduction**"
      ],
      "metadata": {
        "id": "lcnVfOsB3Eea"
      }
    },
    {
      "cell_type": "markdown",
      "source": [
        "## 1.1 Objective"
      ],
      "metadata": {
        "id": "TN4qD2DW8Ord"
      }
    },
    {
      "cell_type": "markdown",
      "source": [
        "In This project we develop a robust machine learning model to predict survival outcomes for cancer patients. Using a dataset containing patient demographics, diagnosis details, treatment history, and various examination results, our primary goal is to accurately classify the label(Survival_Status) for each individual, where `1` signifies `Alive` and `0` signifies\n",
        "`Deceased`."
      ],
      "metadata": {
        "id": "wLWKYc8WQusJ"
      }
    },
    {
      "cell_type": "markdown",
      "source": [
        "\n",
        "## 1.2 Dataset Overview"
      ],
      "metadata": {
        "id": "UiMUQRRqQxef"
      }
    },
    {
      "cell_type": "markdown",
      "source": [
        "**Data Source**: [Kaggle Competition Link](https://www.kaggle.com/competitions/ds-ca-3-q-1)\n",
        "\n",
        "| Feature Name          | Description |\n",
        "|-----------------------|------------|\n",
        "| **Birth_Date**        | The patient's date of birth. |\n",
        "| **Weight**           | The patient's weight measurement. |\n",
        "| **Height**           | The patient's height. |\n",
        "| **Urban_Rural**      | Indicates whether the patient lives in an urban or rural area. |\n",
        "| **Occupation**       | The patient's profession. |\n",
        "| **Insurance_Type**   | The type of health insurance the patient holds. |\n",
        "| **Family_History**   | Indicates whether there is a family history of cancer. |\n",
        "| **Cancer_Type**      | Specifies the type of cancer diagnosed in the patient. |\n",
        "| **Stage_at_Diagnosis** | Describes the cancer stage at the time of diagnosis. |\n",
        "| **Diagnosis_Date**    | The date when the cancer diagnosis was made. |\n",
        "| **Symptoms**         | The reported symptoms at diagnosis or during disease progression. |\n",
        "| **Tumor_Size**       | The size of the tumor. |\n",
        "| **Surgery_Date**     | The date on which surgery was performed. |\n",
        "| **Chemotherapy_Drugs** | Lists the chemotherapy drugs administered to the patient. |\n",
        "| **Radiation_Sessions** | The count of radiation therapy sessions the patient received. |\n",
        "| **Immunotherapy**     | Indicates whether the patient underwent immunotherapy treatment. |\n",
        "| **Targeted_Therapy**  | Indicates whether the patient received targeted therapy, designed to attack specific cancer cells. |\n",
        "| **Recurrence_Status** | Indicates whether the cancer has recurred following initial treatment. |\n",
        "| **Smoking_History**   | Information about the patient's smoking habits. |\n",
        "| **Alcohol_Use**       | Details regarding the patient's alcohol consumption. |\n",
        "| **label(Survival_Status)** | The current survival outcome of the patient (1 = alive, 0 = deceased). |x"
      ],
      "metadata": {
        "id": "gREbTcH86LPB"
      }
    },
    {
      "cell_type": "markdown",
      "source": [
        "# **2. Environment Setup**"
      ],
      "metadata": {
        "id": "d76DDjVx5NU3"
      }
    },
    {
      "cell_type": "markdown",
      "source": [
        "## 2.1 Import Libraries"
      ],
      "metadata": {
        "id": "fThtICyR5744"
      }
    },
    {
      "cell_type": "code",
      "source": [
        "import pandas as pd\n",
        "import matplotlib.pyplot as plt\n",
        "import seaborn as sns\n",
        "import numpy as np\n",
        "\n",
        "from scipy.stats import pointbiserialr, chi2_contingency\n",
        "from sklearn.ensemble import RandomForestClassifier\n",
        "from sklearn.preprocessing import MultiLabelBinarizer, StandardScaler, LabelEncoder\n",
        "from sklearn.model_selection import train_test_split\n",
        "from sklearn.feature_selection import SelectKBest, f_classif, mutual_info_classif\n",
        "from sklearn.metrics import accuracy_score, precision_score, recall_score, f1_score\n",
        "from sklearn.linear_model import LogisticRegression\n",
        "from sklearn.svm import SVC\n",
        "from sklearn.tree import DecisionTreeClassifier\n",
        "from sklearn.model_selection import cross_val_score"
      ],
      "metadata": {
        "id": "vuxgm9yz6MCs"
      },
      "execution_count": null,
      "outputs": []
    },
    {
      "cell_type": "markdown",
      "source": [
        "## 2.2 Configuration"
      ],
      "metadata": {
        "id": "--RF5Rpb-dKF"
      }
    },
    {
      "cell_type": "code",
      "source": [
        "RANDOM_SEED=42"
      ],
      "metadata": {
        "id": "gjIlN4nj-fZH"
      },
      "execution_count": null,
      "outputs": []
    },
    {
      "cell_type": "markdown",
      "source": [
        "# **3. Data Exploration and Understanding**"
      ],
      "metadata": {
        "id": "WT5FwGyE6Qa2"
      }
    },
    {
      "cell_type": "markdown",
      "source": [
        "## 3.1 Load the Data"
      ],
      "metadata": {
        "id": "Q8-ZxHR-8BJN"
      }
    },
    {
      "cell_type": "code",
      "source": [
        "df = pd.read_csv('train_data.csv')"
      ],
      "metadata": {
        "id": "F7q3zdnl8b3Y"
      },
      "execution_count": null,
      "outputs": []
    },
    {
      "cell_type": "code",
      "source": [
        "df.info()"
      ],
      "metadata": {
        "colab": {
          "base_uri": "https://localhost:8080/"
        },
        "id": "AWnTI5-xAFqg",
        "outputId": "62d4a51f-b0f1-4a8c-cb8c-a8966ae5404b"
      },
      "execution_count": null,
      "outputs": [
        {
          "output_type": "stream",
          "name": "stdout",
          "text": [
            "<class 'pandas.core.frame.DataFrame'>\n",
            "RangeIndex: 26473 entries, 0 to 26472\n",
            "Data columns (total 22 columns):\n",
            " #   Column              Non-Null Count  Dtype  \n",
            "---  ------              --------------  -----  \n",
            " 0   id                  26473 non-null  int64  \n",
            " 1   Birth_Date          26473 non-null  object \n",
            " 2   Weight              26473 non-null  float64\n",
            " 3   Height              26473 non-null  object \n",
            " 4   Urban_Rural         26473 non-null  object \n",
            " 5   Occupation          26473 non-null  object \n",
            " 6   Insurance_Type      26473 non-null  object \n",
            " 7   Family_History      26473 non-null  object \n",
            " 8   Cancer_Type         26473 non-null  object \n",
            " 9   Stage_at_Diagnosis  26473 non-null  object \n",
            " 10  Diagnosis_Date      26473 non-null  object \n",
            " 11  Symptoms            25972 non-null  object \n",
            " 12  Tumor_Size          26473 non-null  float64\n",
            " 13  Surgery_Date        18898 non-null  object \n",
            " 14  Chemotherapy_Drugs  22423 non-null  object \n",
            " 15  Radiation_Sessions  26473 non-null  int64  \n",
            " 16  Immunotherapy       26473 non-null  object \n",
            " 17  Targeted_Therapy    26473 non-null  object \n",
            " 18  Recurrence_Status   26473 non-null  object \n",
            " 19  Smoking_History     26473 non-null  object \n",
            " 20  Alcohol_Use         26473 non-null  object \n",
            " 21  label               26473 non-null  int64  \n",
            "dtypes: float64(2), int64(3), object(17)\n",
            "memory usage: 4.4+ MB\n"
          ]
        }
      ]
    },
    {
      "cell_type": "code",
      "source": [
        "df.head()"
      ],
      "metadata": {
        "colab": {
          "base_uri": "https://localhost:8080/",
          "height": 287
        },
        "id": "NIpuykhU9b3G",
        "outputId": "8508dfd0-cf30-45fb-b733-a7eeb9bd1528"
      },
      "execution_count": null,
      "outputs": [
        {
          "output_type": "execute_result",
          "data": {
            "text/plain": [
              "   id  Birth_Date  Weight   Height Urban_Rural      Occupation Insurance_Type  \\\n",
              "0   1  1994-07-01    64.9  155.0cm       Urban      Unemployed          UEBMI   \n",
              "1   2  1992-07-16    61.4  171.0cm       Urban  Factory Worker          UEBMI   \n",
              "2   3  1948-06-23    60.7  170.0cm       Rural      Unemployed          NRCMS   \n",
              "3   4  1954-11-26    70.2  171.0cm       Urban          Farmer          URBMI   \n",
              "4   5  1979-07-08   100.3  186.0cm       Rural   Office Worker       Self-pay   \n",
              "\n",
              "  Family_History Cancer_Type Stage_at_Diagnosis  ... Tumor_Size Surgery_Date  \\\n",
              "0             No      Breast                 II  ...        8.0   2024-10-19   \n",
              "1            Yes      Breast                  I  ...       10.0   2021-02-28   \n",
              "2             No     Stomach                 IV  ...       13.0   2022-09-25   \n",
              "3            Yes    Cervical                 IV  ...        3.0   2024-09-13   \n",
              "4            Yes        Lung                 II  ...       12.0   2023-12-08   \n",
              "\n",
              "                                  Chemotherapy_Drugs Radiation_Sessions  \\\n",
              "0                   Paclitaxel,Docetaxel,Doxorubicin                 16   \n",
              "1  Cyclophosphamide,Paclitaxel,Doxorubicin,Docetaxel                 10   \n",
              "2                             Fluorouracil,Cisplatin                 21   \n",
              "3                                          Cisplatin                 10   \n",
              "4                            Gemcitabine,Carboplatin                  6   \n",
              "\n",
              "  Immunotherapy  Targeted_Therapy Recurrence_Status Smoking_History  \\\n",
              "0            No               Yes                NO           Never   \n",
              "1            No                No               Yes          Former   \n",
              "2           Yes                No                NO          Former   \n",
              "3            No               Yes                NO           Never   \n",
              "4           Yes                No               Yes          Former   \n",
              "\n",
              "  Alcohol_Use label  \n",
              "0     Regular     1  \n",
              "1     Regular     1  \n",
              "2       Never     0  \n",
              "3     Regular     1  \n",
              "4       Never     0  \n",
              "\n",
              "[5 rows x 22 columns]"
            ],
            "text/html": [
              "\n",
              "  <div id=\"df-99b4308b-d2fd-4719-8f06-71b6f51bdf38\" class=\"colab-df-container\">\n",
              "    <div>\n",
              "<style scoped>\n",
              "    .dataframe tbody tr th:only-of-type {\n",
              "        vertical-align: middle;\n",
              "    }\n",
              "\n",
              "    .dataframe tbody tr th {\n",
              "        vertical-align: top;\n",
              "    }\n",
              "\n",
              "    .dataframe thead th {\n",
              "        text-align: right;\n",
              "    }\n",
              "</style>\n",
              "<table border=\"1\" class=\"dataframe\">\n",
              "  <thead>\n",
              "    <tr style=\"text-align: right;\">\n",
              "      <th></th>\n",
              "      <th>id</th>\n",
              "      <th>Birth_Date</th>\n",
              "      <th>Weight</th>\n",
              "      <th>Height</th>\n",
              "      <th>Urban_Rural</th>\n",
              "      <th>Occupation</th>\n",
              "      <th>Insurance_Type</th>\n",
              "      <th>Family_History</th>\n",
              "      <th>Cancer_Type</th>\n",
              "      <th>Stage_at_Diagnosis</th>\n",
              "      <th>...</th>\n",
              "      <th>Tumor_Size</th>\n",
              "      <th>Surgery_Date</th>\n",
              "      <th>Chemotherapy_Drugs</th>\n",
              "      <th>Radiation_Sessions</th>\n",
              "      <th>Immunotherapy</th>\n",
              "      <th>Targeted_Therapy</th>\n",
              "      <th>Recurrence_Status</th>\n",
              "      <th>Smoking_History</th>\n",
              "      <th>Alcohol_Use</th>\n",
              "      <th>label</th>\n",
              "    </tr>\n",
              "  </thead>\n",
              "  <tbody>\n",
              "    <tr>\n",
              "      <th>0</th>\n",
              "      <td>1</td>\n",
              "      <td>1994-07-01</td>\n",
              "      <td>64.9</td>\n",
              "      <td>155.0cm</td>\n",
              "      <td>Urban</td>\n",
              "      <td>Unemployed</td>\n",
              "      <td>UEBMI</td>\n",
              "      <td>No</td>\n",
              "      <td>Breast</td>\n",
              "      <td>II</td>\n",
              "      <td>...</td>\n",
              "      <td>8.0</td>\n",
              "      <td>2024-10-19</td>\n",
              "      <td>Paclitaxel,Docetaxel,Doxorubicin</td>\n",
              "      <td>16</td>\n",
              "      <td>No</td>\n",
              "      <td>Yes</td>\n",
              "      <td>NO</td>\n",
              "      <td>Never</td>\n",
              "      <td>Regular</td>\n",
              "      <td>1</td>\n",
              "    </tr>\n",
              "    <tr>\n",
              "      <th>1</th>\n",
              "      <td>2</td>\n",
              "      <td>1992-07-16</td>\n",
              "      <td>61.4</td>\n",
              "      <td>171.0cm</td>\n",
              "      <td>Urban</td>\n",
              "      <td>Factory Worker</td>\n",
              "      <td>UEBMI</td>\n",
              "      <td>Yes</td>\n",
              "      <td>Breast</td>\n",
              "      <td>I</td>\n",
              "      <td>...</td>\n",
              "      <td>10.0</td>\n",
              "      <td>2021-02-28</td>\n",
              "      <td>Cyclophosphamide,Paclitaxel,Doxorubicin,Docetaxel</td>\n",
              "      <td>10</td>\n",
              "      <td>No</td>\n",
              "      <td>No</td>\n",
              "      <td>Yes</td>\n",
              "      <td>Former</td>\n",
              "      <td>Regular</td>\n",
              "      <td>1</td>\n",
              "    </tr>\n",
              "    <tr>\n",
              "      <th>2</th>\n",
              "      <td>3</td>\n",
              "      <td>1948-06-23</td>\n",
              "      <td>60.7</td>\n",
              "      <td>170.0cm</td>\n",
              "      <td>Rural</td>\n",
              "      <td>Unemployed</td>\n",
              "      <td>NRCMS</td>\n",
              "      <td>No</td>\n",
              "      <td>Stomach</td>\n",
              "      <td>IV</td>\n",
              "      <td>...</td>\n",
              "      <td>13.0</td>\n",
              "      <td>2022-09-25</td>\n",
              "      <td>Fluorouracil,Cisplatin</td>\n",
              "      <td>21</td>\n",
              "      <td>Yes</td>\n",
              "      <td>No</td>\n",
              "      <td>NO</td>\n",
              "      <td>Former</td>\n",
              "      <td>Never</td>\n",
              "      <td>0</td>\n",
              "    </tr>\n",
              "    <tr>\n",
              "      <th>3</th>\n",
              "      <td>4</td>\n",
              "      <td>1954-11-26</td>\n",
              "      <td>70.2</td>\n",
              "      <td>171.0cm</td>\n",
              "      <td>Urban</td>\n",
              "      <td>Farmer</td>\n",
              "      <td>URBMI</td>\n",
              "      <td>Yes</td>\n",
              "      <td>Cervical</td>\n",
              "      <td>IV</td>\n",
              "      <td>...</td>\n",
              "      <td>3.0</td>\n",
              "      <td>2024-09-13</td>\n",
              "      <td>Cisplatin</td>\n",
              "      <td>10</td>\n",
              "      <td>No</td>\n",
              "      <td>Yes</td>\n",
              "      <td>NO</td>\n",
              "      <td>Never</td>\n",
              "      <td>Regular</td>\n",
              "      <td>1</td>\n",
              "    </tr>\n",
              "    <tr>\n",
              "      <th>4</th>\n",
              "      <td>5</td>\n",
              "      <td>1979-07-08</td>\n",
              "      <td>100.3</td>\n",
              "      <td>186.0cm</td>\n",
              "      <td>Rural</td>\n",
              "      <td>Office Worker</td>\n",
              "      <td>Self-pay</td>\n",
              "      <td>Yes</td>\n",
              "      <td>Lung</td>\n",
              "      <td>II</td>\n",
              "      <td>...</td>\n",
              "      <td>12.0</td>\n",
              "      <td>2023-12-08</td>\n",
              "      <td>Gemcitabine,Carboplatin</td>\n",
              "      <td>6</td>\n",
              "      <td>Yes</td>\n",
              "      <td>No</td>\n",
              "      <td>Yes</td>\n",
              "      <td>Former</td>\n",
              "      <td>Never</td>\n",
              "      <td>0</td>\n",
              "    </tr>\n",
              "  </tbody>\n",
              "</table>\n",
              "<p>5 rows × 22 columns</p>\n",
              "</div>\n",
              "    <div class=\"colab-df-buttons\">\n",
              "\n",
              "  <div class=\"colab-df-container\">\n",
              "    <button class=\"colab-df-convert\" onclick=\"convertToInteractive('df-99b4308b-d2fd-4719-8f06-71b6f51bdf38')\"\n",
              "            title=\"Convert this dataframe to an interactive table.\"\n",
              "            style=\"display:none;\">\n",
              "\n",
              "  <svg xmlns=\"http://www.w3.org/2000/svg\" height=\"24px\" viewBox=\"0 -960 960 960\">\n",
              "    <path d=\"M120-120v-720h720v720H120Zm60-500h600v-160H180v160Zm220 220h160v-160H400v160Zm0 220h160v-160H400v160ZM180-400h160v-160H180v160Zm440 0h160v-160H620v160ZM180-180h160v-160H180v160Zm440 0h160v-160H620v160Z\"/>\n",
              "  </svg>\n",
              "    </button>\n",
              "\n",
              "  <style>\n",
              "    .colab-df-container {\n",
              "      display:flex;\n",
              "      gap: 12px;\n",
              "    }\n",
              "\n",
              "    .colab-df-convert {\n",
              "      background-color: #E8F0FE;\n",
              "      border: none;\n",
              "      border-radius: 50%;\n",
              "      cursor: pointer;\n",
              "      display: none;\n",
              "      fill: #1967D2;\n",
              "      height: 32px;\n",
              "      padding: 0 0 0 0;\n",
              "      width: 32px;\n",
              "    }\n",
              "\n",
              "    .colab-df-convert:hover {\n",
              "      background-color: #E2EBFA;\n",
              "      box-shadow: 0px 1px 2px rgba(60, 64, 67, 0.3), 0px 1px 3px 1px rgba(60, 64, 67, 0.15);\n",
              "      fill: #174EA6;\n",
              "    }\n",
              "\n",
              "    .colab-df-buttons div {\n",
              "      margin-bottom: 4px;\n",
              "    }\n",
              "\n",
              "    [theme=dark] .colab-df-convert {\n",
              "      background-color: #3B4455;\n",
              "      fill: #D2E3FC;\n",
              "    }\n",
              "\n",
              "    [theme=dark] .colab-df-convert:hover {\n",
              "      background-color: #434B5C;\n",
              "      box-shadow: 0px 1px 3px 1px rgba(0, 0, 0, 0.15);\n",
              "      filter: drop-shadow(0px 1px 2px rgba(0, 0, 0, 0.3));\n",
              "      fill: #FFFFFF;\n",
              "    }\n",
              "  </style>\n",
              "\n",
              "    <script>\n",
              "      const buttonEl =\n",
              "        document.querySelector('#df-99b4308b-d2fd-4719-8f06-71b6f51bdf38 button.colab-df-convert');\n",
              "      buttonEl.style.display =\n",
              "        google.colab.kernel.accessAllowed ? 'block' : 'none';\n",
              "\n",
              "      async function convertToInteractive(key) {\n",
              "        const element = document.querySelector('#df-99b4308b-d2fd-4719-8f06-71b6f51bdf38');\n",
              "        const dataTable =\n",
              "          await google.colab.kernel.invokeFunction('convertToInteractive',\n",
              "                                                    [key], {});\n",
              "        if (!dataTable) return;\n",
              "\n",
              "        const docLinkHtml = 'Like what you see? Visit the ' +\n",
              "          '<a target=\"_blank\" href=https://colab.research.google.com/notebooks/data_table.ipynb>data table notebook</a>'\n",
              "          + ' to learn more about interactive tables.';\n",
              "        element.innerHTML = '';\n",
              "        dataTable['output_type'] = 'display_data';\n",
              "        await google.colab.output.renderOutput(dataTable, element);\n",
              "        const docLink = document.createElement('div');\n",
              "        docLink.innerHTML = docLinkHtml;\n",
              "        element.appendChild(docLink);\n",
              "      }\n",
              "    </script>\n",
              "  </div>\n",
              "\n",
              "\n",
              "    <div id=\"df-3837a0a9-13fe-4c85-8612-82d97a73f5f8\">\n",
              "      <button class=\"colab-df-quickchart\" onclick=\"quickchart('df-3837a0a9-13fe-4c85-8612-82d97a73f5f8')\"\n",
              "                title=\"Suggest charts\"\n",
              "                style=\"display:none;\">\n",
              "\n",
              "<svg xmlns=\"http://www.w3.org/2000/svg\" height=\"24px\"viewBox=\"0 0 24 24\"\n",
              "     width=\"24px\">\n",
              "    <g>\n",
              "        <path d=\"M19 3H5c-1.1 0-2 .9-2 2v14c0 1.1.9 2 2 2h14c1.1 0 2-.9 2-2V5c0-1.1-.9-2-2-2zM9 17H7v-7h2v7zm4 0h-2V7h2v10zm4 0h-2v-4h2v4z\"/>\n",
              "    </g>\n",
              "</svg>\n",
              "      </button>\n",
              "\n",
              "<style>\n",
              "  .colab-df-quickchart {\n",
              "      --bg-color: #E8F0FE;\n",
              "      --fill-color: #1967D2;\n",
              "      --hover-bg-color: #E2EBFA;\n",
              "      --hover-fill-color: #174EA6;\n",
              "      --disabled-fill-color: #AAA;\n",
              "      --disabled-bg-color: #DDD;\n",
              "  }\n",
              "\n",
              "  [theme=dark] .colab-df-quickchart {\n",
              "      --bg-color: #3B4455;\n",
              "      --fill-color: #D2E3FC;\n",
              "      --hover-bg-color: #434B5C;\n",
              "      --hover-fill-color: #FFFFFF;\n",
              "      --disabled-bg-color: #3B4455;\n",
              "      --disabled-fill-color: #666;\n",
              "  }\n",
              "\n",
              "  .colab-df-quickchart {\n",
              "    background-color: var(--bg-color);\n",
              "    border: none;\n",
              "    border-radius: 50%;\n",
              "    cursor: pointer;\n",
              "    display: none;\n",
              "    fill: var(--fill-color);\n",
              "    height: 32px;\n",
              "    padding: 0;\n",
              "    width: 32px;\n",
              "  }\n",
              "\n",
              "  .colab-df-quickchart:hover {\n",
              "    background-color: var(--hover-bg-color);\n",
              "    box-shadow: 0 1px 2px rgba(60, 64, 67, 0.3), 0 1px 3px 1px rgba(60, 64, 67, 0.15);\n",
              "    fill: var(--button-hover-fill-color);\n",
              "  }\n",
              "\n",
              "  .colab-df-quickchart-complete:disabled,\n",
              "  .colab-df-quickchart-complete:disabled:hover {\n",
              "    background-color: var(--disabled-bg-color);\n",
              "    fill: var(--disabled-fill-color);\n",
              "    box-shadow: none;\n",
              "  }\n",
              "\n",
              "  .colab-df-spinner {\n",
              "    border: 2px solid var(--fill-color);\n",
              "    border-color: transparent;\n",
              "    border-bottom-color: var(--fill-color);\n",
              "    animation:\n",
              "      spin 1s steps(1) infinite;\n",
              "  }\n",
              "\n",
              "  @keyframes spin {\n",
              "    0% {\n",
              "      border-color: transparent;\n",
              "      border-bottom-color: var(--fill-color);\n",
              "      border-left-color: var(--fill-color);\n",
              "    }\n",
              "    20% {\n",
              "      border-color: transparent;\n",
              "      border-left-color: var(--fill-color);\n",
              "      border-top-color: var(--fill-color);\n",
              "    }\n",
              "    30% {\n",
              "      border-color: transparent;\n",
              "      border-left-color: var(--fill-color);\n",
              "      border-top-color: var(--fill-color);\n",
              "      border-right-color: var(--fill-color);\n",
              "    }\n",
              "    40% {\n",
              "      border-color: transparent;\n",
              "      border-right-color: var(--fill-color);\n",
              "      border-top-color: var(--fill-color);\n",
              "    }\n",
              "    60% {\n",
              "      border-color: transparent;\n",
              "      border-right-color: var(--fill-color);\n",
              "    }\n",
              "    80% {\n",
              "      border-color: transparent;\n",
              "      border-right-color: var(--fill-color);\n",
              "      border-bottom-color: var(--fill-color);\n",
              "    }\n",
              "    90% {\n",
              "      border-color: transparent;\n",
              "      border-bottom-color: var(--fill-color);\n",
              "    }\n",
              "  }\n",
              "</style>\n",
              "\n",
              "      <script>\n",
              "        async function quickchart(key) {\n",
              "          const quickchartButtonEl =\n",
              "            document.querySelector('#' + key + ' button');\n",
              "          quickchartButtonEl.disabled = true;  // To prevent multiple clicks.\n",
              "          quickchartButtonEl.classList.add('colab-df-spinner');\n",
              "          try {\n",
              "            const charts = await google.colab.kernel.invokeFunction(\n",
              "                'suggestCharts', [key], {});\n",
              "          } catch (error) {\n",
              "            console.error('Error during call to suggestCharts:', error);\n",
              "          }\n",
              "          quickchartButtonEl.classList.remove('colab-df-spinner');\n",
              "          quickchartButtonEl.classList.add('colab-df-quickchart-complete');\n",
              "        }\n",
              "        (() => {\n",
              "          let quickchartButtonEl =\n",
              "            document.querySelector('#df-3837a0a9-13fe-4c85-8612-82d97a73f5f8 button');\n",
              "          quickchartButtonEl.style.display =\n",
              "            google.colab.kernel.accessAllowed ? 'block' : 'none';\n",
              "        })();\n",
              "      </script>\n",
              "    </div>\n",
              "\n",
              "    </div>\n",
              "  </div>\n"
            ],
            "application/vnd.google.colaboratory.intrinsic+json": {
              "type": "dataframe",
              "variable_name": "df"
            }
          },
          "metadata": {},
          "execution_count": 37
        }
      ]
    },
    {
      "cell_type": "markdown",
      "source": [
        "## 3.2 Summary Statistics"
      ],
      "metadata": {
        "id": "WoEnqYGD93NK"
      }
    },
    {
      "cell_type": "code",
      "source": [
        "df.describe()"
      ],
      "metadata": {
        "colab": {
          "base_uri": "https://localhost:8080/",
          "height": 297
        },
        "id": "kTxrgQTr99Sr",
        "outputId": "3a10e066-934e-4e94-91f2-0c964019d33e"
      },
      "execution_count": null,
      "outputs": [
        {
          "output_type": "execute_result",
          "data": {
            "text/plain": [
              "                 id        Weight    Tumor_Size  Radiation_Sessions  \\\n",
              "count  26473.000000  26473.000000  26473.000000        26473.000000   \n",
              "mean   13237.000000     73.790794      7.737438           11.991841   \n",
              "std     7642.241174     21.360083      4.161065            7.736559   \n",
              "min        1.000000     31.500000      0.500000            0.000000   \n",
              "25%     6619.000000     57.000000      4.000000            6.000000   \n",
              "50%    13237.000000     72.100000      8.000000           12.000000   \n",
              "75%    19855.000000     88.400000     11.000000           17.000000   \n",
              "max    26473.000000    133.100000     15.000000           29.000000   \n",
              "\n",
              "              label  \n",
              "count  26473.000000  \n",
              "mean       0.485740  \n",
              "std        0.499806  \n",
              "min        0.000000  \n",
              "25%        0.000000  \n",
              "50%        0.000000  \n",
              "75%        1.000000  \n",
              "max        1.000000  "
            ],
            "text/html": [
              "\n",
              "  <div id=\"df-38f8efc4-c94b-493f-9be2-76d89e8dde2c\" class=\"colab-df-container\">\n",
              "    <div>\n",
              "<style scoped>\n",
              "    .dataframe tbody tr th:only-of-type {\n",
              "        vertical-align: middle;\n",
              "    }\n",
              "\n",
              "    .dataframe tbody tr th {\n",
              "        vertical-align: top;\n",
              "    }\n",
              "\n",
              "    .dataframe thead th {\n",
              "        text-align: right;\n",
              "    }\n",
              "</style>\n",
              "<table border=\"1\" class=\"dataframe\">\n",
              "  <thead>\n",
              "    <tr style=\"text-align: right;\">\n",
              "      <th></th>\n",
              "      <th>id</th>\n",
              "      <th>Weight</th>\n",
              "      <th>Tumor_Size</th>\n",
              "      <th>Radiation_Sessions</th>\n",
              "      <th>label</th>\n",
              "    </tr>\n",
              "  </thead>\n",
              "  <tbody>\n",
              "    <tr>\n",
              "      <th>count</th>\n",
              "      <td>26473.000000</td>\n",
              "      <td>26473.000000</td>\n",
              "      <td>26473.000000</td>\n",
              "      <td>26473.000000</td>\n",
              "      <td>26473.000000</td>\n",
              "    </tr>\n",
              "    <tr>\n",
              "      <th>mean</th>\n",
              "      <td>13237.000000</td>\n",
              "      <td>73.790794</td>\n",
              "      <td>7.737438</td>\n",
              "      <td>11.991841</td>\n",
              "      <td>0.485740</td>\n",
              "    </tr>\n",
              "    <tr>\n",
              "      <th>std</th>\n",
              "      <td>7642.241174</td>\n",
              "      <td>21.360083</td>\n",
              "      <td>4.161065</td>\n",
              "      <td>7.736559</td>\n",
              "      <td>0.499806</td>\n",
              "    </tr>\n",
              "    <tr>\n",
              "      <th>min</th>\n",
              "      <td>1.000000</td>\n",
              "      <td>31.500000</td>\n",
              "      <td>0.500000</td>\n",
              "      <td>0.000000</td>\n",
              "      <td>0.000000</td>\n",
              "    </tr>\n",
              "    <tr>\n",
              "      <th>25%</th>\n",
              "      <td>6619.000000</td>\n",
              "      <td>57.000000</td>\n",
              "      <td>4.000000</td>\n",
              "      <td>6.000000</td>\n",
              "      <td>0.000000</td>\n",
              "    </tr>\n",
              "    <tr>\n",
              "      <th>50%</th>\n",
              "      <td>13237.000000</td>\n",
              "      <td>72.100000</td>\n",
              "      <td>8.000000</td>\n",
              "      <td>12.000000</td>\n",
              "      <td>0.000000</td>\n",
              "    </tr>\n",
              "    <tr>\n",
              "      <th>75%</th>\n",
              "      <td>19855.000000</td>\n",
              "      <td>88.400000</td>\n",
              "      <td>11.000000</td>\n",
              "      <td>17.000000</td>\n",
              "      <td>1.000000</td>\n",
              "    </tr>\n",
              "    <tr>\n",
              "      <th>max</th>\n",
              "      <td>26473.000000</td>\n",
              "      <td>133.100000</td>\n",
              "      <td>15.000000</td>\n",
              "      <td>29.000000</td>\n",
              "      <td>1.000000</td>\n",
              "    </tr>\n",
              "  </tbody>\n",
              "</table>\n",
              "</div>\n",
              "    <div class=\"colab-df-buttons\">\n",
              "\n",
              "  <div class=\"colab-df-container\">\n",
              "    <button class=\"colab-df-convert\" onclick=\"convertToInteractive('df-38f8efc4-c94b-493f-9be2-76d89e8dde2c')\"\n",
              "            title=\"Convert this dataframe to an interactive table.\"\n",
              "            style=\"display:none;\">\n",
              "\n",
              "  <svg xmlns=\"http://www.w3.org/2000/svg\" height=\"24px\" viewBox=\"0 -960 960 960\">\n",
              "    <path d=\"M120-120v-720h720v720H120Zm60-500h600v-160H180v160Zm220 220h160v-160H400v160Zm0 220h160v-160H400v160ZM180-400h160v-160H180v160Zm440 0h160v-160H620v160ZM180-180h160v-160H180v160Zm440 0h160v-160H620v160Z\"/>\n",
              "  </svg>\n",
              "    </button>\n",
              "\n",
              "  <style>\n",
              "    .colab-df-container {\n",
              "      display:flex;\n",
              "      gap: 12px;\n",
              "    }\n",
              "\n",
              "    .colab-df-convert {\n",
              "      background-color: #E8F0FE;\n",
              "      border: none;\n",
              "      border-radius: 50%;\n",
              "      cursor: pointer;\n",
              "      display: none;\n",
              "      fill: #1967D2;\n",
              "      height: 32px;\n",
              "      padding: 0 0 0 0;\n",
              "      width: 32px;\n",
              "    }\n",
              "\n",
              "    .colab-df-convert:hover {\n",
              "      background-color: #E2EBFA;\n",
              "      box-shadow: 0px 1px 2px rgba(60, 64, 67, 0.3), 0px 1px 3px 1px rgba(60, 64, 67, 0.15);\n",
              "      fill: #174EA6;\n",
              "    }\n",
              "\n",
              "    .colab-df-buttons div {\n",
              "      margin-bottom: 4px;\n",
              "    }\n",
              "\n",
              "    [theme=dark] .colab-df-convert {\n",
              "      background-color: #3B4455;\n",
              "      fill: #D2E3FC;\n",
              "    }\n",
              "\n",
              "    [theme=dark] .colab-df-convert:hover {\n",
              "      background-color: #434B5C;\n",
              "      box-shadow: 0px 1px 3px 1px rgba(0, 0, 0, 0.15);\n",
              "      filter: drop-shadow(0px 1px 2px rgba(0, 0, 0, 0.3));\n",
              "      fill: #FFFFFF;\n",
              "    }\n",
              "  </style>\n",
              "\n",
              "    <script>\n",
              "      const buttonEl =\n",
              "        document.querySelector('#df-38f8efc4-c94b-493f-9be2-76d89e8dde2c button.colab-df-convert');\n",
              "      buttonEl.style.display =\n",
              "        google.colab.kernel.accessAllowed ? 'block' : 'none';\n",
              "\n",
              "      async function convertToInteractive(key) {\n",
              "        const element = document.querySelector('#df-38f8efc4-c94b-493f-9be2-76d89e8dde2c');\n",
              "        const dataTable =\n",
              "          await google.colab.kernel.invokeFunction('convertToInteractive',\n",
              "                                                    [key], {});\n",
              "        if (!dataTable) return;\n",
              "\n",
              "        const docLinkHtml = 'Like what you see? Visit the ' +\n",
              "          '<a target=\"_blank\" href=https://colab.research.google.com/notebooks/data_table.ipynb>data table notebook</a>'\n",
              "          + ' to learn more about interactive tables.';\n",
              "        element.innerHTML = '';\n",
              "        dataTable['output_type'] = 'display_data';\n",
              "        await google.colab.output.renderOutput(dataTable, element);\n",
              "        const docLink = document.createElement('div');\n",
              "        docLink.innerHTML = docLinkHtml;\n",
              "        element.appendChild(docLink);\n",
              "      }\n",
              "    </script>\n",
              "  </div>\n",
              "\n",
              "\n",
              "    <div id=\"df-90dec612-5f8a-4b48-aff0-b49527c67a90\">\n",
              "      <button class=\"colab-df-quickchart\" onclick=\"quickchart('df-90dec612-5f8a-4b48-aff0-b49527c67a90')\"\n",
              "                title=\"Suggest charts\"\n",
              "                style=\"display:none;\">\n",
              "\n",
              "<svg xmlns=\"http://www.w3.org/2000/svg\" height=\"24px\"viewBox=\"0 0 24 24\"\n",
              "     width=\"24px\">\n",
              "    <g>\n",
              "        <path d=\"M19 3H5c-1.1 0-2 .9-2 2v14c0 1.1.9 2 2 2h14c1.1 0 2-.9 2-2V5c0-1.1-.9-2-2-2zM9 17H7v-7h2v7zm4 0h-2V7h2v10zm4 0h-2v-4h2v4z\"/>\n",
              "    </g>\n",
              "</svg>\n",
              "      </button>\n",
              "\n",
              "<style>\n",
              "  .colab-df-quickchart {\n",
              "      --bg-color: #E8F0FE;\n",
              "      --fill-color: #1967D2;\n",
              "      --hover-bg-color: #E2EBFA;\n",
              "      --hover-fill-color: #174EA6;\n",
              "      --disabled-fill-color: #AAA;\n",
              "      --disabled-bg-color: #DDD;\n",
              "  }\n",
              "\n",
              "  [theme=dark] .colab-df-quickchart {\n",
              "      --bg-color: #3B4455;\n",
              "      --fill-color: #D2E3FC;\n",
              "      --hover-bg-color: #434B5C;\n",
              "      --hover-fill-color: #FFFFFF;\n",
              "      --disabled-bg-color: #3B4455;\n",
              "      --disabled-fill-color: #666;\n",
              "  }\n",
              "\n",
              "  .colab-df-quickchart {\n",
              "    background-color: var(--bg-color);\n",
              "    border: none;\n",
              "    border-radius: 50%;\n",
              "    cursor: pointer;\n",
              "    display: none;\n",
              "    fill: var(--fill-color);\n",
              "    height: 32px;\n",
              "    padding: 0;\n",
              "    width: 32px;\n",
              "  }\n",
              "\n",
              "  .colab-df-quickchart:hover {\n",
              "    background-color: var(--hover-bg-color);\n",
              "    box-shadow: 0 1px 2px rgba(60, 64, 67, 0.3), 0 1px 3px 1px rgba(60, 64, 67, 0.15);\n",
              "    fill: var(--button-hover-fill-color);\n",
              "  }\n",
              "\n",
              "  .colab-df-quickchart-complete:disabled,\n",
              "  .colab-df-quickchart-complete:disabled:hover {\n",
              "    background-color: var(--disabled-bg-color);\n",
              "    fill: var(--disabled-fill-color);\n",
              "    box-shadow: none;\n",
              "  }\n",
              "\n",
              "  .colab-df-spinner {\n",
              "    border: 2px solid var(--fill-color);\n",
              "    border-color: transparent;\n",
              "    border-bottom-color: var(--fill-color);\n",
              "    animation:\n",
              "      spin 1s steps(1) infinite;\n",
              "  }\n",
              "\n",
              "  @keyframes spin {\n",
              "    0% {\n",
              "      border-color: transparent;\n",
              "      border-bottom-color: var(--fill-color);\n",
              "      border-left-color: var(--fill-color);\n",
              "    }\n",
              "    20% {\n",
              "      border-color: transparent;\n",
              "      border-left-color: var(--fill-color);\n",
              "      border-top-color: var(--fill-color);\n",
              "    }\n",
              "    30% {\n",
              "      border-color: transparent;\n",
              "      border-left-color: var(--fill-color);\n",
              "      border-top-color: var(--fill-color);\n",
              "      border-right-color: var(--fill-color);\n",
              "    }\n",
              "    40% {\n",
              "      border-color: transparent;\n",
              "      border-right-color: var(--fill-color);\n",
              "      border-top-color: var(--fill-color);\n",
              "    }\n",
              "    60% {\n",
              "      border-color: transparent;\n",
              "      border-right-color: var(--fill-color);\n",
              "    }\n",
              "    80% {\n",
              "      border-color: transparent;\n",
              "      border-right-color: var(--fill-color);\n",
              "      border-bottom-color: var(--fill-color);\n",
              "    }\n",
              "    90% {\n",
              "      border-color: transparent;\n",
              "      border-bottom-color: var(--fill-color);\n",
              "    }\n",
              "  }\n",
              "</style>\n",
              "\n",
              "      <script>\n",
              "        async function quickchart(key) {\n",
              "          const quickchartButtonEl =\n",
              "            document.querySelector('#' + key + ' button');\n",
              "          quickchartButtonEl.disabled = true;  // To prevent multiple clicks.\n",
              "          quickchartButtonEl.classList.add('colab-df-spinner');\n",
              "          try {\n",
              "            const charts = await google.colab.kernel.invokeFunction(\n",
              "                'suggestCharts', [key], {});\n",
              "          } catch (error) {\n",
              "            console.error('Error during call to suggestCharts:', error);\n",
              "          }\n",
              "          quickchartButtonEl.classList.remove('colab-df-spinner');\n",
              "          quickchartButtonEl.classList.add('colab-df-quickchart-complete');\n",
              "        }\n",
              "        (() => {\n",
              "          let quickchartButtonEl =\n",
              "            document.querySelector('#df-90dec612-5f8a-4b48-aff0-b49527c67a90 button');\n",
              "          quickchartButtonEl.style.display =\n",
              "            google.colab.kernel.accessAllowed ? 'block' : 'none';\n",
              "        })();\n",
              "      </script>\n",
              "    </div>\n",
              "\n",
              "    </div>\n",
              "  </div>\n"
            ],
            "application/vnd.google.colaboratory.intrinsic+json": {
              "type": "dataframe",
              "summary": "{\n  \"name\": \"df\",\n  \"rows\": 8,\n  \"fields\": [\n    {\n      \"column\": \"id\",\n      \"properties\": {\n        \"dtype\": \"number\",\n        \"std\": 9540.692483715979,\n        \"min\": 1.0,\n        \"max\": 26473.0,\n        \"num_unique_values\": 6,\n        \"samples\": [\n          26473.0,\n          13237.0,\n          19855.0\n        ],\n        \"semantic_type\": \"\",\n        \"description\": \"\"\n      }\n    },\n    {\n      \"column\": \"Weight\",\n      \"properties\": {\n        \"dtype\": \"number\",\n        \"std\": 9335.577856229735,\n        \"min\": 21.360083311129262,\n        \"max\": 26473.0,\n        \"num_unique_values\": 8,\n        \"samples\": [\n          73.79079439428853,\n          72.1,\n          26473.0\n        ],\n        \"semantic_type\": \"\",\n        \"description\": \"\"\n      }\n    },\n    {\n      \"column\": \"Tumor_Size\",\n      \"properties\": {\n        \"dtype\": \"number\",\n        \"std\": 9357.074473460278,\n        \"min\": 0.5,\n        \"max\": 26473.0,\n        \"num_unique_values\": 8,\n        \"samples\": [\n          7.737438144524609,\n          8.0,\n          26473.0\n        ],\n        \"semantic_type\": \"\",\n        \"description\": \"\"\n      }\n    },\n    {\n      \"column\": \"Radiation_Sessions\",\n      \"properties\": {\n        \"dtype\": \"number\",\n        \"std\": 9355.393896770918,\n        \"min\": 0.0,\n        \"max\": 26473.0,\n        \"num_unique_values\": 8,\n        \"samples\": [\n          11.991840743398935,\n          12.0,\n          26473.0\n        ],\n        \"semantic_type\": \"\",\n        \"description\": \"\"\n      }\n    },\n    {\n      \"column\": \"label\",\n      \"properties\": {\n        \"dtype\": \"number\",\n        \"std\": 9359.468125571566,\n        \"min\": 0.0,\n        \"max\": 26473.0,\n        \"num_unique_values\": 5,\n        \"samples\": [\n          0.48574018811619385,\n          1.0,\n          0.4998060564103633\n        ],\n        \"semantic_type\": \"\",\n        \"description\": \"\"\n      }\n    }\n  ]\n}"
            }
          },
          "metadata": {},
          "execution_count": 38
        }
      ]
    },
    {
      "cell_type": "code",
      "source": [
        "df.describe(include='object')"
      ],
      "metadata": {
        "colab": {
          "base_uri": "https://localhost:8080/",
          "height": 210
        },
        "id": "fABVoeMQDgV3",
        "outputId": "590d4432-0d1c-41f2-bc21-cd0071b72c35"
      },
      "execution_count": null,
      "outputs": [
        {
          "output_type": "execute_result",
          "data": {
            "text/plain": [
              "                 Birth_Date   Height Urban_Rural  Occupation Insurance_Type  \\\n",
              "count                 26473    26473       26473       26473          26473   \n",
              "unique                16050       46           2           5              4   \n",
              "top     1800-01-01 00:00:00  179.0cm       Urban  Unemployed          UEBMI   \n",
              "freq                     87      621       14246        5403           6630   \n",
              "\n",
              "       Family_History Cancer_Type Stage_at_Diagnosis Diagnosis_Date  \\\n",
              "count           26473       26473              26473          26473   \n",
              "unique              2           7                  4           4379   \n",
              "top                No      Breast                 II     2018-07-04   \n",
              "freq            15197        4182               7091             16   \n",
              "\n",
              "              Symptoms Surgery_Date        Chemotherapy_Drugs Immunotherapy  \\\n",
              "count            25972        18898                     22423         26473   \n",
              "unique               5         1747                       154             2   \n",
              "top     Blood in Stool   2022-09-28  Gemcitabine, Carboplatin            No   \n",
              "freq              5298           22                      2845         14304   \n",
              "\n",
              "       Targeted_Therapy Recurrence_Status Smoking_History Alcohol_Use  \n",
              "count             26473             26473           26473       26473  \n",
              "unique                2                 2               3           3  \n",
              "top                  No               Yes           Never       Never  \n",
              "freq              15291             13508           10534       11469  "
            ],
            "text/html": [
              "\n",
              "  <div id=\"df-4eb51bfc-fec2-4ae0-b99d-0237480d1380\" class=\"colab-df-container\">\n",
              "    <div>\n",
              "<style scoped>\n",
              "    .dataframe tbody tr th:only-of-type {\n",
              "        vertical-align: middle;\n",
              "    }\n",
              "\n",
              "    .dataframe tbody tr th {\n",
              "        vertical-align: top;\n",
              "    }\n",
              "\n",
              "    .dataframe thead th {\n",
              "        text-align: right;\n",
              "    }\n",
              "</style>\n",
              "<table border=\"1\" class=\"dataframe\">\n",
              "  <thead>\n",
              "    <tr style=\"text-align: right;\">\n",
              "      <th></th>\n",
              "      <th>Birth_Date</th>\n",
              "      <th>Height</th>\n",
              "      <th>Urban_Rural</th>\n",
              "      <th>Occupation</th>\n",
              "      <th>Insurance_Type</th>\n",
              "      <th>Family_History</th>\n",
              "      <th>Cancer_Type</th>\n",
              "      <th>Stage_at_Diagnosis</th>\n",
              "      <th>Diagnosis_Date</th>\n",
              "      <th>Symptoms</th>\n",
              "      <th>Surgery_Date</th>\n",
              "      <th>Chemotherapy_Drugs</th>\n",
              "      <th>Immunotherapy</th>\n",
              "      <th>Targeted_Therapy</th>\n",
              "      <th>Recurrence_Status</th>\n",
              "      <th>Smoking_History</th>\n",
              "      <th>Alcohol_Use</th>\n",
              "    </tr>\n",
              "  </thead>\n",
              "  <tbody>\n",
              "    <tr>\n",
              "      <th>count</th>\n",
              "      <td>26473</td>\n",
              "      <td>26473</td>\n",
              "      <td>26473</td>\n",
              "      <td>26473</td>\n",
              "      <td>26473</td>\n",
              "      <td>26473</td>\n",
              "      <td>26473</td>\n",
              "      <td>26473</td>\n",
              "      <td>26473</td>\n",
              "      <td>25972</td>\n",
              "      <td>18898</td>\n",
              "      <td>22423</td>\n",
              "      <td>26473</td>\n",
              "      <td>26473</td>\n",
              "      <td>26473</td>\n",
              "      <td>26473</td>\n",
              "      <td>26473</td>\n",
              "    </tr>\n",
              "    <tr>\n",
              "      <th>unique</th>\n",
              "      <td>16050</td>\n",
              "      <td>46</td>\n",
              "      <td>2</td>\n",
              "      <td>5</td>\n",
              "      <td>4</td>\n",
              "      <td>2</td>\n",
              "      <td>7</td>\n",
              "      <td>4</td>\n",
              "      <td>4379</td>\n",
              "      <td>5</td>\n",
              "      <td>1747</td>\n",
              "      <td>154</td>\n",
              "      <td>2</td>\n",
              "      <td>2</td>\n",
              "      <td>2</td>\n",
              "      <td>3</td>\n",
              "      <td>3</td>\n",
              "    </tr>\n",
              "    <tr>\n",
              "      <th>top</th>\n",
              "      <td>1800-01-01 00:00:00</td>\n",
              "      <td>179.0cm</td>\n",
              "      <td>Urban</td>\n",
              "      <td>Unemployed</td>\n",
              "      <td>UEBMI</td>\n",
              "      <td>No</td>\n",
              "      <td>Breast</td>\n",
              "      <td>II</td>\n",
              "      <td>2018-07-04</td>\n",
              "      <td>Blood in Stool</td>\n",
              "      <td>2022-09-28</td>\n",
              "      <td>Gemcitabine, Carboplatin</td>\n",
              "      <td>No</td>\n",
              "      <td>No</td>\n",
              "      <td>Yes</td>\n",
              "      <td>Never</td>\n",
              "      <td>Never</td>\n",
              "    </tr>\n",
              "    <tr>\n",
              "      <th>freq</th>\n",
              "      <td>87</td>\n",
              "      <td>621</td>\n",
              "      <td>14246</td>\n",
              "      <td>5403</td>\n",
              "      <td>6630</td>\n",
              "      <td>15197</td>\n",
              "      <td>4182</td>\n",
              "      <td>7091</td>\n",
              "      <td>16</td>\n",
              "      <td>5298</td>\n",
              "      <td>22</td>\n",
              "      <td>2845</td>\n",
              "      <td>14304</td>\n",
              "      <td>15291</td>\n",
              "      <td>13508</td>\n",
              "      <td>10534</td>\n",
              "      <td>11469</td>\n",
              "    </tr>\n",
              "  </tbody>\n",
              "</table>\n",
              "</div>\n",
              "    <div class=\"colab-df-buttons\">\n",
              "\n",
              "  <div class=\"colab-df-container\">\n",
              "    <button class=\"colab-df-convert\" onclick=\"convertToInteractive('df-4eb51bfc-fec2-4ae0-b99d-0237480d1380')\"\n",
              "            title=\"Convert this dataframe to an interactive table.\"\n",
              "            style=\"display:none;\">\n",
              "\n",
              "  <svg xmlns=\"http://www.w3.org/2000/svg\" height=\"24px\" viewBox=\"0 -960 960 960\">\n",
              "    <path d=\"M120-120v-720h720v720H120Zm60-500h600v-160H180v160Zm220 220h160v-160H400v160Zm0 220h160v-160H400v160ZM180-400h160v-160H180v160Zm440 0h160v-160H620v160ZM180-180h160v-160H180v160Zm440 0h160v-160H620v160Z\"/>\n",
              "  </svg>\n",
              "    </button>\n",
              "\n",
              "  <style>\n",
              "    .colab-df-container {\n",
              "      display:flex;\n",
              "      gap: 12px;\n",
              "    }\n",
              "\n",
              "    .colab-df-convert {\n",
              "      background-color: #E8F0FE;\n",
              "      border: none;\n",
              "      border-radius: 50%;\n",
              "      cursor: pointer;\n",
              "      display: none;\n",
              "      fill: #1967D2;\n",
              "      height: 32px;\n",
              "      padding: 0 0 0 0;\n",
              "      width: 32px;\n",
              "    }\n",
              "\n",
              "    .colab-df-convert:hover {\n",
              "      background-color: #E2EBFA;\n",
              "      box-shadow: 0px 1px 2px rgba(60, 64, 67, 0.3), 0px 1px 3px 1px rgba(60, 64, 67, 0.15);\n",
              "      fill: #174EA6;\n",
              "    }\n",
              "\n",
              "    .colab-df-buttons div {\n",
              "      margin-bottom: 4px;\n",
              "    }\n",
              "\n",
              "    [theme=dark] .colab-df-convert {\n",
              "      background-color: #3B4455;\n",
              "      fill: #D2E3FC;\n",
              "    }\n",
              "\n",
              "    [theme=dark] .colab-df-convert:hover {\n",
              "      background-color: #434B5C;\n",
              "      box-shadow: 0px 1px 3px 1px rgba(0, 0, 0, 0.15);\n",
              "      filter: drop-shadow(0px 1px 2px rgba(0, 0, 0, 0.3));\n",
              "      fill: #FFFFFF;\n",
              "    }\n",
              "  </style>\n",
              "\n",
              "    <script>\n",
              "      const buttonEl =\n",
              "        document.querySelector('#df-4eb51bfc-fec2-4ae0-b99d-0237480d1380 button.colab-df-convert');\n",
              "      buttonEl.style.display =\n",
              "        google.colab.kernel.accessAllowed ? 'block' : 'none';\n",
              "\n",
              "      async function convertToInteractive(key) {\n",
              "        const element = document.querySelector('#df-4eb51bfc-fec2-4ae0-b99d-0237480d1380');\n",
              "        const dataTable =\n",
              "          await google.colab.kernel.invokeFunction('convertToInteractive',\n",
              "                                                    [key], {});\n",
              "        if (!dataTable) return;\n",
              "\n",
              "        const docLinkHtml = 'Like what you see? Visit the ' +\n",
              "          '<a target=\"_blank\" href=https://colab.research.google.com/notebooks/data_table.ipynb>data table notebook</a>'\n",
              "          + ' to learn more about interactive tables.';\n",
              "        element.innerHTML = '';\n",
              "        dataTable['output_type'] = 'display_data';\n",
              "        await google.colab.output.renderOutput(dataTable, element);\n",
              "        const docLink = document.createElement('div');\n",
              "        docLink.innerHTML = docLinkHtml;\n",
              "        element.appendChild(docLink);\n",
              "      }\n",
              "    </script>\n",
              "  </div>\n",
              "\n",
              "\n",
              "    <div id=\"df-a9dc0278-31e7-43aa-8388-bd3370e807fb\">\n",
              "      <button class=\"colab-df-quickchart\" onclick=\"quickchart('df-a9dc0278-31e7-43aa-8388-bd3370e807fb')\"\n",
              "                title=\"Suggest charts\"\n",
              "                style=\"display:none;\">\n",
              "\n",
              "<svg xmlns=\"http://www.w3.org/2000/svg\" height=\"24px\"viewBox=\"0 0 24 24\"\n",
              "     width=\"24px\">\n",
              "    <g>\n",
              "        <path d=\"M19 3H5c-1.1 0-2 .9-2 2v14c0 1.1.9 2 2 2h14c1.1 0 2-.9 2-2V5c0-1.1-.9-2-2-2zM9 17H7v-7h2v7zm4 0h-2V7h2v10zm4 0h-2v-4h2v4z\"/>\n",
              "    </g>\n",
              "</svg>\n",
              "      </button>\n",
              "\n",
              "<style>\n",
              "  .colab-df-quickchart {\n",
              "      --bg-color: #E8F0FE;\n",
              "      --fill-color: #1967D2;\n",
              "      --hover-bg-color: #E2EBFA;\n",
              "      --hover-fill-color: #174EA6;\n",
              "      --disabled-fill-color: #AAA;\n",
              "      --disabled-bg-color: #DDD;\n",
              "  }\n",
              "\n",
              "  [theme=dark] .colab-df-quickchart {\n",
              "      --bg-color: #3B4455;\n",
              "      --fill-color: #D2E3FC;\n",
              "      --hover-bg-color: #434B5C;\n",
              "      --hover-fill-color: #FFFFFF;\n",
              "      --disabled-bg-color: #3B4455;\n",
              "      --disabled-fill-color: #666;\n",
              "  }\n",
              "\n",
              "  .colab-df-quickchart {\n",
              "    background-color: var(--bg-color);\n",
              "    border: none;\n",
              "    border-radius: 50%;\n",
              "    cursor: pointer;\n",
              "    display: none;\n",
              "    fill: var(--fill-color);\n",
              "    height: 32px;\n",
              "    padding: 0;\n",
              "    width: 32px;\n",
              "  }\n",
              "\n",
              "  .colab-df-quickchart:hover {\n",
              "    background-color: var(--hover-bg-color);\n",
              "    box-shadow: 0 1px 2px rgba(60, 64, 67, 0.3), 0 1px 3px 1px rgba(60, 64, 67, 0.15);\n",
              "    fill: var(--button-hover-fill-color);\n",
              "  }\n",
              "\n",
              "  .colab-df-quickchart-complete:disabled,\n",
              "  .colab-df-quickchart-complete:disabled:hover {\n",
              "    background-color: var(--disabled-bg-color);\n",
              "    fill: var(--disabled-fill-color);\n",
              "    box-shadow: none;\n",
              "  }\n",
              "\n",
              "  .colab-df-spinner {\n",
              "    border: 2px solid var(--fill-color);\n",
              "    border-color: transparent;\n",
              "    border-bottom-color: var(--fill-color);\n",
              "    animation:\n",
              "      spin 1s steps(1) infinite;\n",
              "  }\n",
              "\n",
              "  @keyframes spin {\n",
              "    0% {\n",
              "      border-color: transparent;\n",
              "      border-bottom-color: var(--fill-color);\n",
              "      border-left-color: var(--fill-color);\n",
              "    }\n",
              "    20% {\n",
              "      border-color: transparent;\n",
              "      border-left-color: var(--fill-color);\n",
              "      border-top-color: var(--fill-color);\n",
              "    }\n",
              "    30% {\n",
              "      border-color: transparent;\n",
              "      border-left-color: var(--fill-color);\n",
              "      border-top-color: var(--fill-color);\n",
              "      border-right-color: var(--fill-color);\n",
              "    }\n",
              "    40% {\n",
              "      border-color: transparent;\n",
              "      border-right-color: var(--fill-color);\n",
              "      border-top-color: var(--fill-color);\n",
              "    }\n",
              "    60% {\n",
              "      border-color: transparent;\n",
              "      border-right-color: var(--fill-color);\n",
              "    }\n",
              "    80% {\n",
              "      border-color: transparent;\n",
              "      border-right-color: var(--fill-color);\n",
              "      border-bottom-color: var(--fill-color);\n",
              "    }\n",
              "    90% {\n",
              "      border-color: transparent;\n",
              "      border-bottom-color: var(--fill-color);\n",
              "    }\n",
              "  }\n",
              "</style>\n",
              "\n",
              "      <script>\n",
              "        async function quickchart(key) {\n",
              "          const quickchartButtonEl =\n",
              "            document.querySelector('#' + key + ' button');\n",
              "          quickchartButtonEl.disabled = true;  // To prevent multiple clicks.\n",
              "          quickchartButtonEl.classList.add('colab-df-spinner');\n",
              "          try {\n",
              "            const charts = await google.colab.kernel.invokeFunction(\n",
              "                'suggestCharts', [key], {});\n",
              "          } catch (error) {\n",
              "            console.error('Error during call to suggestCharts:', error);\n",
              "          }\n",
              "          quickchartButtonEl.classList.remove('colab-df-spinner');\n",
              "          quickchartButtonEl.classList.add('colab-df-quickchart-complete');\n",
              "        }\n",
              "        (() => {\n",
              "          let quickchartButtonEl =\n",
              "            document.querySelector('#df-a9dc0278-31e7-43aa-8388-bd3370e807fb button');\n",
              "          quickchartButtonEl.style.display =\n",
              "            google.colab.kernel.accessAllowed ? 'block' : 'none';\n",
              "        })();\n",
              "      </script>\n",
              "    </div>\n",
              "\n",
              "    </div>\n",
              "  </div>\n"
            ],
            "application/vnd.google.colaboratory.intrinsic+json": {
              "type": "dataframe",
              "summary": "{\n  \"name\": \"df\",\n  \"rows\": 4,\n  \"fields\": [\n    {\n      \"column\": \"Birth_Date\",\n      \"properties\": {\n        \"dtype\": \"date\",\n        \"min\": \"1800-01-01 00:00:00\",\n        \"max\": \"1970-01-01 00:00:00.000026473\",\n        \"num_unique_values\": 4,\n        \"samples\": [\n          16050,\n          \"87\",\n          \"26473\"\n        ],\n        \"semantic_type\": \"\",\n        \"description\": \"\"\n      }\n    },\n    {\n      \"column\": \"Height\",\n      \"properties\": {\n        \"dtype\": \"string\",\n        \"num_unique_values\": 4,\n        \"samples\": [\n          46,\n          \"621\",\n          \"26473\"\n        ],\n        \"semantic_type\": \"\",\n        \"description\": \"\"\n      }\n    },\n    {\n      \"column\": \"Urban_Rural\",\n      \"properties\": {\n        \"dtype\": \"string\",\n        \"num_unique_values\": 4,\n        \"samples\": [\n          2,\n          \"14246\",\n          \"26473\"\n        ],\n        \"semantic_type\": \"\",\n        \"description\": \"\"\n      }\n    },\n    {\n      \"column\": \"Occupation\",\n      \"properties\": {\n        \"dtype\": \"string\",\n        \"num_unique_values\": 4,\n        \"samples\": [\n          5,\n          \"5403\",\n          \"26473\"\n        ],\n        \"semantic_type\": \"\",\n        \"description\": \"\"\n      }\n    },\n    {\n      \"column\": \"Insurance_Type\",\n      \"properties\": {\n        \"dtype\": \"string\",\n        \"num_unique_values\": 4,\n        \"samples\": [\n          4,\n          \"6630\",\n          \"26473\"\n        ],\n        \"semantic_type\": \"\",\n        \"description\": \"\"\n      }\n    },\n    {\n      \"column\": \"Family_History\",\n      \"properties\": {\n        \"dtype\": \"string\",\n        \"num_unique_values\": 4,\n        \"samples\": [\n          2,\n          \"15197\",\n          \"26473\"\n        ],\n        \"semantic_type\": \"\",\n        \"description\": \"\"\n      }\n    },\n    {\n      \"column\": \"Cancer_Type\",\n      \"properties\": {\n        \"dtype\": \"string\",\n        \"num_unique_values\": 4,\n        \"samples\": [\n          7,\n          \"4182\",\n          \"26473\"\n        ],\n        \"semantic_type\": \"\",\n        \"description\": \"\"\n      }\n    },\n    {\n      \"column\": \"Stage_at_Diagnosis\",\n      \"properties\": {\n        \"dtype\": \"string\",\n        \"num_unique_values\": 4,\n        \"samples\": [\n          4,\n          \"7091\",\n          \"26473\"\n        ],\n        \"semantic_type\": \"\",\n        \"description\": \"\"\n      }\n    },\n    {\n      \"column\": \"Diagnosis_Date\",\n      \"properties\": {\n        \"dtype\": \"date\",\n        \"min\": \"1970-01-01 00:00:00.000000016\",\n        \"max\": \"2018-07-04 00:00:00\",\n        \"num_unique_values\": 4,\n        \"samples\": [\n          4379,\n          \"16\",\n          \"26473\"\n        ],\n        \"semantic_type\": \"\",\n        \"description\": \"\"\n      }\n    },\n    {\n      \"column\": \"Symptoms\",\n      \"properties\": {\n        \"dtype\": \"string\",\n        \"num_unique_values\": 4,\n        \"samples\": [\n          5,\n          \"5298\",\n          \"25972\"\n        ],\n        \"semantic_type\": \"\",\n        \"description\": \"\"\n      }\n    },\n    {\n      \"column\": \"Surgery_Date\",\n      \"properties\": {\n        \"dtype\": \"date\",\n        \"min\": \"1970-01-01 00:00:00.000000022\",\n        \"max\": \"2022-09-28 00:00:00\",\n        \"num_unique_values\": 4,\n        \"samples\": [\n          1747,\n          \"22\",\n          \"18898\"\n        ],\n        \"semantic_type\": \"\",\n        \"description\": \"\"\n      }\n    },\n    {\n      \"column\": \"Chemotherapy_Drugs\",\n      \"properties\": {\n        \"dtype\": \"string\",\n        \"num_unique_values\": 4,\n        \"samples\": [\n          154,\n          \"2845\",\n          \"22423\"\n        ],\n        \"semantic_type\": \"\",\n        \"description\": \"\"\n      }\n    },\n    {\n      \"column\": \"Immunotherapy\",\n      \"properties\": {\n        \"dtype\": \"string\",\n        \"num_unique_values\": 4,\n        \"samples\": [\n          2,\n          \"14304\",\n          \"26473\"\n        ],\n        \"semantic_type\": \"\",\n        \"description\": \"\"\n      }\n    },\n    {\n      \"column\": \"Targeted_Therapy\",\n      \"properties\": {\n        \"dtype\": \"string\",\n        \"num_unique_values\": 4,\n        \"samples\": [\n          2,\n          \"15291\",\n          \"26473\"\n        ],\n        \"semantic_type\": \"\",\n        \"description\": \"\"\n      }\n    },\n    {\n      \"column\": \"Recurrence_Status\",\n      \"properties\": {\n        \"dtype\": \"string\",\n        \"num_unique_values\": 4,\n        \"samples\": [\n          2,\n          \"13508\",\n          \"26473\"\n        ],\n        \"semantic_type\": \"\",\n        \"description\": \"\"\n      }\n    },\n    {\n      \"column\": \"Smoking_History\",\n      \"properties\": {\n        \"dtype\": \"string\",\n        \"num_unique_values\": 4,\n        \"samples\": [\n          3,\n          \"10534\",\n          \"26473\"\n        ],\n        \"semantic_type\": \"\",\n        \"description\": \"\"\n      }\n    },\n    {\n      \"column\": \"Alcohol_Use\",\n      \"properties\": {\n        \"dtype\": \"string\",\n        \"num_unique_values\": 4,\n        \"samples\": [\n          3,\n          \"11469\",\n          \"26473\"\n        ],\n        \"semantic_type\": \"\",\n        \"description\": \"\"\n      }\n    }\n  ]\n}"
            }
          },
          "metadata": {},
          "execution_count": 39
        }
      ]
    },
    {
      "cell_type": "markdown",
      "source": [
        "## 3.3 Target Variable Analysis"
      ],
      "metadata": {
        "id": "W4UMyrQHEALz"
      }
    },
    {
      "cell_type": "code",
      "source": [
        "sns.countplot(x='label', data=df)\n",
        "plt.title('Distribution of Survival Status (0=Deceased, 1=Alive)')\n",
        "plt.show()\n",
        "print(df['label'].value_counts(normalize=True))"
      ],
      "metadata": {
        "colab": {
          "base_uri": "https://localhost:8080/",
          "height": 540
        },
        "id": "NK68Qy7kEPf0",
        "outputId": "c16895ee-71c2-4a32-f11e-d3b3318cabeb"
      },
      "execution_count": null,
      "outputs": [
        {
          "output_type": "display_data",
          "data": {
            "text/plain": [
              "<Figure size 640x480 with 1 Axes>"
            ],
            "image/png": "[encoded data removed]"
          },
          "metadata": {}
        },
        {
          "output_type": "stream",
          "name": "stdout",
          "text": [
            "label\n",
            "0    0.51426\n",
            "1    0.48574\n",
            "Name: proportion, dtype: float64\n"
          ]
        }
      ]
    },
    {
      "cell_type": "markdown",
      "source": [
        "## 3.4 Feature-Target Relationships\n"
      ],
      "metadata": {
        "id": "_lPAEXnsE2Kv"
      }
    },
    {
      "cell_type": "markdown",
      "source": [
        "### 3.4.1 Demographic Features"
      ],
      "metadata": {
        "id": "9ZvkzaIkE-fX"
      }
    },
    {
      "cell_type": "markdown",
      "source": [
        "- Age"
      ],
      "metadata": {
        "id": "X13S1m5AFCX-"
      }
    },
    {
      "cell_type": "code",
      "source": [
        "df['Diagnosis_Date'] = pd.to_datetime(\n",
        "    df['Diagnosis_Date'].str.split().str[0],\n",
        "    format='%Y-%m-%d',\n",
        "    errors='coerce'\n",
        ")\n",
        "\n",
        "df['Birth_Date'] = pd.to_datetime(\n",
        "    df['Birth_Date'].str.split().str[0],\n",
        "    format='%Y-%m-%d',\n",
        "    errors='coerce'\n",
        ")\n",
        "\n",
        "df['Age'] = (\n",
        "    (df['Diagnosis_Date'] - df['Birth_Date']).dt.days / 365.25\n",
        ").round(1)"
      ],
      "metadata": {
        "id": "oyf782Bd8xX6"
      },
      "execution_count": null,
      "outputs": []
    },
    {
      "cell_type": "code",
      "source": [
        "g = sns.FacetGrid(df, col='label', height=5)\n",
        "g.map(sns.histplot, 'Age', kde=True,\n",
        "      bins=15, color='steelblue')"
      ],
      "metadata": {
        "colab": {
          "base_uri": "https://localhost:8080/",
          "height": 524
        },
        "id": "BdCjZ2OCFEQ-",
        "outputId": "7d0ff3e1-ce71-4ce1-cb9f-94b0f87eb836"
      },
      "execution_count": null,
      "outputs": [
        {
          "output_type": "execute_result",
          "data": {
            "text/plain": [
              "<seaborn.axisgrid.FacetGrid at 0x7a8c8094c7d0>"
            ]
          },
          "metadata": {},
          "execution_count": 42
        },
        {
          "output_type": "display_data",
          "data": {
            "text/plain": [
              "<Figure size 1000x500 with 2 Axes>"
            ],
            "image/png": "[encoded data removed]"
          },
          "metadata": {}
        }
      ]
    },
    {
      "cell_type": "markdown",
      "source": [
        "- Weight/Height (BMI)"
      ],
      "metadata": {
        "id": "oLce3ShUG5wO"
      }
    },
    {
      "cell_type": "code",
      "source": [
        "df['Height_cm'] = df['Height'].str.replace('cm', '').astype(float)\n",
        "df['Height_m'] = df['Height_cm'] / 100\n",
        "df = df.drop(['Height', 'Height_cm'], axis=1)\n",
        "df['BMI'] = df['Weight'] / (df['Height_m']**2)"
      ],
      "metadata": {
        "id": "AjEps8YKK86j"
      },
      "execution_count": null,
      "outputs": []
    },
    {
      "cell_type": "code",
      "source": [
        "g = sns.FacetGrid(df, col='label', height=5)\n",
        "g.map(sns.histplot, 'BMI', kde=True,\n",
        "      bins=15, color='steelblue')\n",
        "g.axes[0,0].axvline(18.5, color='red', linestyle='--')\n",
        "g.axes[0,1].axvline(18.5, color='red', linestyle='--')"
      ],
      "metadata": {
        "colab": {
          "base_uri": "https://localhost:8080/",
          "height": 524
        },
        "id": "mr66e_RzKmiJ",
        "outputId": "6eb7a313-fbc0-47cd-e678-5f8d2e87feb1"
      },
      "execution_count": null,
      "outputs": [
        {
          "output_type": "execute_result",
          "data": {
            "text/plain": [
              "<matplotlib.lines.Line2D at 0x7a8c82d52450>"
            ]
          },
          "metadata": {},
          "execution_count": 44
        },
        {
          "output_type": "display_data",
          "data": {
            "text/plain": [
              "<Figure size 1000x500 with 2 Axes>"
            ],
            "image/png": "[encoded data removed]"
          },
          "metadata": {}
        }
      ]
    },
    {
      "cell_type": "markdown",
      "source": [
        "### 3.4.2 Medical Features"
      ],
      "metadata": {
        "id": "zA2pvwa3Hr4M"
      }
    },
    {
      "cell_type": "markdown",
      "source": [
        "- Cancer Type"
      ],
      "metadata": {
        "id": "NxTXa2WgLqqq"
      }
    },
    {
      "cell_type": "code",
      "source": [
        "pd.crosstab(df['Cancer_Type'],\n",
        "            df['label'],\n",
        "            normalize='index').plot(kind='bar', stacked=True)\n",
        "plt.title('Survival Rate by Cancer Type')\n",
        "plt.show()"
      ],
      "metadata": {
        "colab": {
          "base_uri": "https://localhost:8080/",
          "height": 538
        },
        "id": "XY-l3TdfLZZN",
        "outputId": "0a77783d-a0bd-4c59-9169-fba4ccd59b36"
      },
      "execution_count": null,
      "outputs": [
        {
          "output_type": "display_data",
          "data": {
            "text/plain": [
              "<Figure size 640x480 with 1 Axes>"
            ],
            "image/png": "[encoded data removed]"
          },
          "metadata": {}
        }
      ]
    },
    {
      "cell_type": "markdown",
      "source": [
        "- Stage"
      ],
      "metadata": {
        "id": "rAJweb2ELt4v"
      }
    },
    {
      "cell_type": "code",
      "source": [
        "pd.crosstab(df['Stage_at_Diagnosis'],\n",
        "            df['label'], normalize='index').plot(kind='bar', stacked=True)\n",
        "plt.title('Survival Rate by Cancer Stage')\n",
        "plt.show()"
      ],
      "metadata": {
        "colab": {
          "base_uri": "https://localhost:8080/",
          "height": 471
        },
        "id": "wQq91wmiLwjC",
        "outputId": "bdeb11c7-941d-4c1a-8f2a-316099e7502e"
      },
      "execution_count": null,
      "outputs": [
        {
          "output_type": "display_data",
          "data": {
            "text/plain": [
              "<Figure size 640x480 with 1 Axes>"
            ],
            "image/png": "[encoded data removed]"
          },
          "metadata": {}
        }
      ]
    },
    {
      "cell_type": "markdown",
      "source": [
        "- Tumor Size"
      ],
      "metadata": {
        "id": "jtDIdBHONQn3"
      }
    },
    {
      "cell_type": "code",
      "source": [
        "g = sns.FacetGrid(df, col='label', height=5)\n",
        "g.map(sns.histplot, 'Tumor_Size', kde=True,\n",
        "      bins=15, color='steelblue')\n",
        "plt.show()"
      ],
      "metadata": {
        "colab": {
          "base_uri": "https://localhost:8080/",
          "height": 507
        },
        "id": "2YG45UWGNSAm",
        "outputId": "1cd6d485-6c6a-49ac-c0c0-78c2346fc97e"
      },
      "execution_count": null,
      "outputs": [
        {
          "output_type": "display_data",
          "data": {
            "text/plain": [
              "<Figure size 1000x500 with 2 Axes>"
            ],
            "image/png": "[encoded data removed]"
          },
          "metadata": {}
        }
      ]
    },
    {
      "cell_type": "markdown",
      "source": [
        "### 3.4.3 Treatment History"
      ],
      "metadata": {
        "id": "3tTuPHvaTlvL"
      }
    },
    {
      "cell_type": "markdown",
      "source": [
        "- Radiation Session"
      ],
      "metadata": {
        "id": "iNhSRGfUTpi5"
      }
    },
    {
      "cell_type": "code",
      "source": [
        "sns.boxplot(x='label', y='Radiation_Sessions', data=df)\n",
        "plt.title('Radiation Sessions vs. Survival Status')\n",
        "plt.show()"
      ],
      "metadata": {
        "colab": {
          "base_uri": "https://localhost:8080/",
          "height": 472
        },
        "id": "HNtuKlK1TT9f",
        "outputId": "b21665ef-1bea-4915-f83a-b66ba6ec629c"
      },
      "execution_count": null,
      "outputs": [
        {
          "output_type": "display_data",
          "data": {
            "text/plain": [
              "<Figure size 640x480 with 1 Axes>"
            ],
            "image/png": "[encoded data removed]"
          },
          "metadata": {}
        }
      ]
    },
    {
      "cell_type": "code",
      "source": [
        "for feature in ['Surgery_Date', 'Chemotherapy_Drugs',]:\n",
        "  temp_feature = 'Had_' + feature.split('_')[0]\n",
        "  df[temp_feature] = df[feature].notnull().astype(int)\n",
        "  pd.crosstab(df[temp_feature], df['label'], normalize='index').plot(kind='bar', stacked=True)\n",
        "  plt.title(f'{feature} vs. Survival Status')\n",
        "  plt.show()"
      ],
      "metadata": {
        "colab": {
          "base_uri": "https://localhost:8080/",
          "height": 917
        },
        "id": "R9_-yxHFTDux",
        "outputId": "daa3e637-28ea-4c7f-a91b-e922587a7e6c"
      },
      "execution_count": null,
      "outputs": [
        {
          "output_type": "display_data",
          "data": {
            "text/plain": [
              "<Figure size 640x480 with 1 Axes>"
            ],
            "image/png": "[encoded data removed]"
          },
          "metadata": {}
        },
        {
          "output_type": "display_data",
          "data": {
            "text/plain": [
              "<Figure size 640x480 with 1 Axes>"
            ],
            "image/png": "[encoded data removed]"
          },
          "metadata": {}
        }
      ]
    },
    {
      "cell_type": "markdown",
      "source": [
        "### 3.4.4 Lifestyle Features"
      ],
      "metadata": {
        "id": "GB1uPWxxSM0O"
      }
    },
    {
      "cell_type": "markdown",
      "source": [
        "- Smokig/Alchohol"
      ],
      "metadata": {
        "id": "BXzg54ZQSO7G"
      }
    },
    {
      "cell_type": "code",
      "source": [
        "for feature in ['Smoking_History', 'Alcohol_Use']:\n",
        "    pd.crosstab(df[feature], df['label'], normalize='index').plot(kind='bar', stacked=True)\n",
        "    plt.title(f'{feature} vs. Survival Status')\n",
        "    plt.show()"
      ],
      "metadata": {
        "colab": {
          "base_uri": "https://localhost:8080/",
          "height": 1000
        },
        "id": "cWhapT4dR9LD",
        "outputId": "87d52df0-0db8-4756-ea37-d47ac776e4b1"
      },
      "execution_count": null,
      "outputs": [
        {
          "output_type": "display_data",
          "data": {
            "text/plain": [
              "<Figure size 640x480 with 1 Axes>"
            ],
            "image/png": "[encoded data removed]"
          },
          "metadata": {}
        },
        {
          "output_type": "display_data",
          "data": {
            "text/plain": [
              "<Figure size 640x480 with 1 Axes>"
            ],
            "image/png": "[encoded data removed]"
          },
          "metadata": {}
        }
      ]
    },
    {
      "cell_type": "markdown",
      "source": [
        "## 3.5 Correlation Analysis"
      ],
      "metadata": {
        "id": "D_oYI4_qT-sw"
      }
    },
    {
      "cell_type": "code",
      "source": [
        "num_features = ['Weight', 'Tumor_Size', 'Radiation_Sessions', 'Height_m', 'BMI']\n",
        "corr_matrix = df[num_features + ['label']].corr(method='spearman')\n",
        "sns.heatmap(corr_matrix, annot=True, cmap='coolwarm')\n",
        "plt.title('Correlation Matrix')\n",
        "plt.show()"
      ],
      "metadata": {
        "colab": {
          "base_uri": "https://localhost:8080/",
          "height": 571
        },
        "id": "ShDul-XRW_pL",
        "outputId": "6f089d70-96f0-4b54-be09-095480756bd4"
      },
      "execution_count": null,
      "outputs": [
        {
          "output_type": "display_data",
          "data": {
            "text/plain": [
              "<Figure size 640x480 with 2 Axes>"
            ],
            "image/png": "[encoded data removed]"
          },
          "metadata": {}
        }
      ]
    },
    {
      "cell_type": "markdown",
      "source": [
        "## 3.6 Cramer's V Analysis"
      ],
      "metadata": {
        "id": "4aSrXM9LYnuX"
      }
    },
    {
      "cell_type": "markdown",
      "source": [
        "**Cramer’s V** is a **normalized measure of association** between two **categorical variables**, ranging from **0 (no association)** to **1 (perfect association)**. It is derived from the **Chi-Square $χ²$ statistic** but adjusts for sample size and table dimensions, making it comparable across different studies.  \n",
        "\n",
        "\n",
        "$$\n",
        "V = \\sqrt{\\frac{\\chi^2}{n \\times \\min(k-1, r-1)}}\n",
        "$$\n",
        "\n",
        "**Where:**  \n",
        "- $chi^2$ = Chi-Square test statistic  \n",
        "- $n$ = Total number of observations  \n",
        "- $k$ = Number of categories in the **first variable**  \n",
        "- $r$ = Number of categories in the **second variable**  \n",
        "- $\\min(k-1, r-1)$ = Degrees of freedom adjustment  \n",
        "\n"
      ],
      "metadata": {
        "id": "DcUD8C7jYrh5"
      }
    },
    {
      "cell_type": "code",
      "source": [
        "def cramers_v(contingency_table):\n",
        "    chi2 = chi2_contingency(contingency_table)[0]\n",
        "    n = contingency_table.sum().sum()\n",
        "    phi2 = chi2 / n\n",
        "    r, k = contingency_table.shape\n",
        "    return np.sqrt(phi2 / min(k-1, r-1))"
      ],
      "metadata": {
        "id": "V34JAPbGUBrJ"
      },
      "execution_count": null,
      "outputs": []
    },
    {
      "cell_type": "code",
      "source": [
        "categorical_features = df.select_dtypes(include=['object', 'category', 'bool']).columns.tolist()\n",
        "\n",
        "categorical_results = []\n",
        "for feature in categorical_features:\n",
        "    contingency_table = pd.crosstab(df[feature], df['label'])\n",
        "    v = cramers_v(contingency_table)\n",
        "\n",
        "    categorical_results.append({\n",
        "        'Feature': feature,\n",
        "        'Cramers_V': v,\\\n",
        "    })\n",
        "\n",
        "categorical_df = pd.DataFrame(categorical_results)\n",
        "print(\"\\nCategorical Features Association with Survival_Status:\")\n",
        "print((\n",
        "    categorical_df\n",
        "    .sort_values(by='Cramers_V', ascending=False)\n",
        "    .reset_index(drop=True)\n",
        "    ))"
      ],
      "metadata": {
        "colab": {
          "base_uri": "https://localhost:8080/"
        },
        "id": "dR6Jnsrh_yDf",
        "outputId": "deccf303-660e-4440-e977-a8117e01161b"
      },
      "execution_count": null,
      "outputs": [
        {
          "output_type": "stream",
          "name": "stdout",
          "text": [
            "\n",
            "Categorical Features Association with Survival_Status:\n",
            "               Feature  Cramers_V\n",
            "0         Surgery_Date   0.306756\n",
            "1   Chemotherapy_Drugs   0.278517\n",
            "2   Stage_at_Diagnosis   0.220674\n",
            "3          Cancer_Type   0.145253\n",
            "4          Alcohol_Use   0.114858\n",
            "5      Smoking_History   0.107562\n",
            "6           Occupation   0.053252\n",
            "7    Recurrence_Status   0.048816\n",
            "8             Symptoms   0.016602\n",
            "9       Insurance_Type   0.013648\n",
            "10    Targeted_Therapy   0.007490\n",
            "11       Immunotherapy   0.007056\n",
            "12         Urban_Rural   0.003086\n",
            "13      Family_History   0.000656\n"
          ]
        }
      ]
    },
    {
      "cell_type": "markdown",
      "source": [
        "# **4. Preprocessing and Feature Engineering**"
      ],
      "metadata": {
        "id": "PZHFLOSbFvHZ"
      }
    },
    {
      "cell_type": "markdown",
      "source": [
        "The goal is Identify the most predictive features and create new ones to improve model performance."
      ],
      "metadata": {
        "id": "VNpZnwAgYAU0"
      }
    },
    {
      "cell_type": "markdown",
      "source": [
        "## 4.1 Split Train Test Data"
      ],
      "metadata": {
        "id": "GWchRkrMBH8B"
      }
    },
    {
      "cell_type": "code",
      "source": [
        "X = df.drop('label', axis=1)\n",
        "y = df['label']\n",
        "X_train, X_test, y_train, y_test = train_test_split(\n",
        "    X, y, test_size=0.2, random_state=42, stratify=y\n",
        ")"
      ],
      "metadata": {
        "id": "I5kwtKkkBERX"
      },
      "execution_count": null,
      "outputs": []
    },
    {
      "cell_type": "markdown",
      "source": [
        "## 4.2 Handle Missing Values"
      ],
      "metadata": {
        "id": "jv9_WKPZYLjW"
      }
    },
    {
      "cell_type": "code",
      "source": [
        "df.isnull().sum()"
      ],
      "metadata": {
        "colab": {
          "base_uri": "https://localhost:8080/",
          "height": 889
        },
        "id": "yzt4wK3Rb0c4",
        "outputId": "a36777b7-dce4-4067-8924-46865a00c4f6"
      },
      "execution_count": null,
      "outputs": [
        {
          "output_type": "execute_result",
          "data": {
            "text/plain": [
              "id                       0\n",
              "Birth_Date               0\n",
              "Weight                   0\n",
              "Urban_Rural              0\n",
              "Occupation               0\n",
              "Insurance_Type           0\n",
              "Family_History           0\n",
              "Cancer_Type              0\n",
              "Stage_at_Diagnosis       0\n",
              "Diagnosis_Date           0\n",
              "Symptoms               501\n",
              "Tumor_Size               0\n",
              "Surgery_Date          7575\n",
              "Chemotherapy_Drugs    4050\n",
              "Radiation_Sessions       0\n",
              "Immunotherapy            0\n",
              "Targeted_Therapy         0\n",
              "Recurrence_Status        0\n",
              "Smoking_History          0\n",
              "Alcohol_Use              0\n",
              "label                    0\n",
              "Age                      0\n",
              "Height_m                 0\n",
              "BMI                      0\n",
              "Had_Surgery              0\n",
              "Had_Chemotherapy         0\n",
              "dtype: int64"
            ],
            "text/html": [
              "<div>\n",
              "<style scoped>\n",
              "    .dataframe tbody tr th:only-of-type {\n",
              "        vertical-align: middle;\n",
              "    }\n",
              "\n",
              "    .dataframe tbody tr th {\n",
              "        vertical-align: top;\n",
              "    }\n",
              "\n",
              "    .dataframe thead th {\n",
              "        text-align: right;\n",
              "    }\n",
              "</style>\n",
              "<table border=\"1\" class=\"dataframe\">\n",
              "  <thead>\n",
              "    <tr style=\"text-align: right;\">\n",
              "      <th></th>\n",
              "      <th>0</th>\n",
              "    </tr>\n",
              "  </thead>\n",
              "  <tbody>\n",
              "    <tr>\n",
              "      <th>id</th>\n",
              "      <td>0</td>\n",
              "    </tr>\n",
              "    <tr>\n",
              "      <th>Birth_Date</th>\n",
              "      <td>0</td>\n",
              "    </tr>\n",
              "    <tr>\n",
              "      <th>Weight</th>\n",
              "      <td>0</td>\n",
              "    </tr>\n",
              "    <tr>\n",
              "      <th>Urban_Rural</th>\n",
              "      <td>0</td>\n",
              "    </tr>\n",
              "    <tr>\n",
              "      <th>Occupation</th>\n",
              "      <td>0</td>\n",
              "    </tr>\n",
              "    <tr>\n",
              "      <th>Insurance_Type</th>\n",
              "      <td>0</td>\n",
              "    </tr>\n",
              "    <tr>\n",
              "      <th>Family_History</th>\n",
              "      <td>0</td>\n",
              "    </tr>\n",
              "    <tr>\n",
              "      <th>Cancer_Type</th>\n",
              "      <td>0</td>\n",
              "    </tr>\n",
              "    <tr>\n",
              "      <th>Stage_at_Diagnosis</th>\n",
              "      <td>0</td>\n",
              "    </tr>\n",
              "    <tr>\n",
              "      <th>Diagnosis_Date</th>\n",
              "      <td>0</td>\n",
              "    </tr>\n",
              "    <tr>\n",
              "      <th>Symptoms</th>\n",
              "      <td>501</td>\n",
              "    </tr>\n",
              "    <tr>\n",
              "      <th>Tumor_Size</th>\n",
              "      <td>0</td>\n",
              "    </tr>\n",
              "    <tr>\n",
              "      <th>Surgery_Date</th>\n",
              "      <td>7575</td>\n",
              "    </tr>\n",
              "    <tr>\n",
              "      <th>Chemotherapy_Drugs</th>\n",
              "      <td>4050</td>\n",
              "    </tr>\n",
              "    <tr>\n",
              "      <th>Radiation_Sessions</th>\n",
              "      <td>0</td>\n",
              "    </tr>\n",
              "    <tr>\n",
              "      <th>Immunotherapy</th>\n",
              "      <td>0</td>\n",
              "    </tr>\n",
              "    <tr>\n",
              "      <th>Targeted_Therapy</th>\n",
              "      <td>0</td>\n",
              "    </tr>\n",
              "    <tr>\n",
              "      <th>Recurrence_Status</th>\n",
              "      <td>0</td>\n",
              "    </tr>\n",
              "    <tr>\n",
              "      <th>Smoking_History</th>\n",
              "      <td>0</td>\n",
              "    </tr>\n",
              "    <tr>\n",
              "      <th>Alcohol_Use</th>\n",
              "      <td>0</td>\n",
              "    </tr>\n",
              "    <tr>\n",
              "      <th>label</th>\n",
              "      <td>0</td>\n",
              "    </tr>\n",
              "    <tr>\n",
              "      <th>Age</th>\n",
              "      <td>0</td>\n",
              "    </tr>\n",
              "    <tr>\n",
              "      <th>Height_m</th>\n",
              "      <td>0</td>\n",
              "    </tr>\n",
              "    <tr>\n",
              "      <th>BMI</th>\n",
              "      <td>0</td>\n",
              "    </tr>\n",
              "    <tr>\n",
              "      <th>Had_Surgery</th>\n",
              "      <td>0</td>\n",
              "    </tr>\n",
              "    <tr>\n",
              "      <th>Had_Chemotherapy</th>\n",
              "      <td>0</td>\n",
              "    </tr>\n",
              "  </tbody>\n",
              "</table>\n",
              "</div><br><label><b>dtype:</b> int64</label>"
            ]
          },
          "metadata": {},
          "execution_count": 101
        }
      ]
    },
    {
      "cell_type": "markdown",
      "source": [
        "- Symptoms\n",
        "\n",
        "Fill null columns with No_Symptoms"
      ],
      "metadata": {
        "id": "IAmrH_zxeRgG"
      }
    },
    {
      "cell_type": "code",
      "source": [
        "X_train['Symptoms'] = X_train['Symptoms'].fillna(\"No_Symptoms\")\n",
        "X_test['Symptoms'] = X_test['Symptoms'].fillna(\"No_Symptoms\")"
      ],
      "metadata": {
        "id": "FeFku8-NeM-D"
      },
      "execution_count": null,
      "outputs": []
    },
    {
      "cell_type": "code",
      "source": [
        "print(X_train['Symptoms'].isnull().sum())\n",
        "print(X_test['Symptoms'].isnull().sum())"
      ],
      "metadata": {
        "colab": {
          "base_uri": "https://localhost:8080/"
        },
        "id": "Iz1MFvYrwpFV",
        "outputId": "69d6b99a-85df-4052-d9e1-1b2ac838cce0"
      },
      "execution_count": null,
      "outputs": [
        {
          "output_type": "stream",
          "name": "stdout",
          "text": [
            "0\n",
            "0\n"
          ]
        }
      ]
    },
    {
      "cell_type": "markdown",
      "source": [
        "- Surgery Date"
      ],
      "metadata": {
        "id": "l98q2kTreVXx"
      }
    },
    {
      "cell_type": "markdown",
      "source": [
        "Adding new feature `Time_to_surgery` and set far future date for surgery_date to increa"
      ],
      "metadata": {
        "id": "favnFiem7oKN"
      }
    },
    {
      "cell_type": "code",
      "source": [
        "def handle_surgery_date_missing_value(df: pd.DataFrame) -> pd.DataFrame:\n",
        "    copy_df = df.copy()\n",
        "    copy_df['Surgery_Date'] = copy_df['Surgery_Date'].fillna(\"2100-01-01\")\n",
        "    copy_df['Surgery_Date'] = pd.to_datetime(\n",
        "        copy_df['Surgery_Date'].str.split().str[0],\n",
        "        format='%Y-%m-%d',\n",
        "        errors='coerce'\n",
        "    )\n",
        "\n",
        "    copy_df['time_to_surgery'] = (\n",
        "        (copy_df['Surgery_Date'] - copy_df['Diagnosis_Date']).dt.days / 365.25\n",
        "    ).round(1).astype(int)\n",
        "\n",
        "    conditions = [\n",
        "        copy_df['time_to_surgery'] <= 14,\n",
        "        (copy_df['time_to_surgery'] > 14) & (copy_df['time_to_surgery'] <= 30),\n",
        "        (copy_df['time_to_surgery'] > 30) & (copy_df['time_to_surgery'] <= 1000),\n",
        "        copy_df['time_to_surgery'] > 1000\n",
        "    ]\n",
        "\n",
        "    choices = [\n",
        "        'early_surgery(<14d)',\n",
        "        'intermediate_surgery(14-30d)',\n",
        "        'late_surgery(>30d)',\n",
        "        'no_surgery'\n",
        "    ]\n",
        "\n",
        "\n",
        "    copy_df['surgery_timing_group'] = np.select(\n",
        "        conditions,\n",
        "        choices,\n",
        "        default='no_surgery'\n",
        "    )\n",
        "\n",
        "    return copy_df"
      ],
      "metadata": {
        "id": "NC3DGw8WCY5o"
      },
      "execution_count": null,
      "outputs": []
    },
    {
      "cell_type": "code",
      "source": [
        "X_train = handle_surgery_date_missing_value(X_train)"
      ],
      "metadata": {
        "id": "cqhEdwkjC28r"
      },
      "execution_count": null,
      "outputs": []
    },
    {
      "cell_type": "code",
      "source": [
        "X_test = handle_surgery_date_missing_value(X_test)"
      ],
      "metadata": {
        "id": "1WZmJ2PQIvf0"
      },
      "execution_count": null,
      "outputs": []
    },
    {
      "cell_type": "code",
      "source": [
        "print(X_train['surgery_timing_group'].isnull().sum())"
      ],
      "metadata": {
        "colab": {
          "base_uri": "https://localhost:8080/"
        },
        "id": "xmEErvXWp3pq",
        "outputId": "83301e52-b53f-465f-b8c4-2b90f70295bf"
      },
      "execution_count": null,
      "outputs": [
        {
          "output_type": "stream",
          "name": "stdout",
          "text": [
            "0\n"
          ]
        }
      ]
    },
    {
      "cell_type": "code",
      "source": [
        "print(X_test['surgery_timing_group'].isnull().sum())"
      ],
      "metadata": {
        "colab": {
          "base_uri": "https://localhost:8080/"
        },
        "id": "uDEf8H68Lqek",
        "outputId": "885b4360-fd91-4fb5-d2c8-54be381a0105"
      },
      "execution_count": null,
      "outputs": [
        {
          "output_type": "stream",
          "name": "stdout",
          "text": [
            "0\n"
          ]
        }
      ]
    },
    {
      "cell_type": "markdown",
      "source": [
        "- Chemotherapy_Drugs"
      ],
      "metadata": {
        "id": "pJVN5Z7ShcZx"
      }
    },
    {
      "cell_type": "code",
      "source": [
        "X_train['Chemotherapy_Drugs'] = X_train['Chemotherapy_Drugs'].dropna().str.split(',')"
      ],
      "metadata": {
        "id": "au-JrK35Lyfg"
      },
      "execution_count": null,
      "outputs": []
    },
    {
      "cell_type": "code",
      "source": [
        "X_test['Chemotherapy_Drugs'] = X_test['Chemotherapy_Drugs'].dropna().str.split(',')"
      ],
      "metadata": {
        "id": "EhiYseKMpQ6x"
      },
      "execution_count": null,
      "outputs": []
    },
    {
      "cell_type": "code",
      "source": [
        "def impute_chemotherapy_drugs(train_df):\n",
        "    result_df = train_df.copy()\n",
        "    empty_mask = result_df['Chemotherapy_Drugs'].isna() | (result_df['Chemotherapy_Drugs'] == '')\n",
        "\n",
        "    if not empty_mask.any():\n",
        "        return result_df\n",
        "    features = ['Cancer_Type', 'Stage_at_Diagnosis', 'Radiation_Sessions',\n",
        "               'Immunotherapy', 'Targeted_Therapy']\n",
        "    X = pd.get_dummies(result_df[features], dummy_na=True)\n",
        "\n",
        "    mlb = MultiLabelBinarizer()\n",
        "    known_drugs = result_df.loc[~empty_mask, 'Chemotherapy_Drugs'].dropna()\n",
        "\n",
        "\n",
        "    drugs_encoded = pd.DataFrame(\n",
        "        mlb.fit_transform(known_drugs),\n",
        "        columns=mlb.classes_,\n",
        "        index=known_drugs.index\n",
        "    )\n",
        "\n",
        "    result_df = result_df.join(drugs_encoded)\n",
        "\n",
        "    for drug in drugs_encoded.columns:\n",
        "        train_idx = ~empty_mask & result_df['Chemotherapy_Drugs'].notna()\n",
        "        if result_df.loc[train_idx, drug].sum() > 1:\n",
        "            clf = RandomForestClassifier(n_estimators=100, random_state=0)\n",
        "            clf.fit(X.loc[train_idx], result_df.loc[train_idx, drug])\n",
        "            result_df.loc[empty_mask, drug] = clf.predict(X.loc[empty_mask])\n",
        "\n",
        "    def get_drug_list(row):\n",
        "        if not empty_mask[row.name]:\n",
        "            return row['Chemotherapy_Drugs']\n",
        "        drugs = [d for d in drugs_encoded.columns if row.get(d, 0) == 1]\n",
        "        return drugs if drugs else 'No_chemo'\n",
        "\n",
        "    result_df['Chemotherapy_Drugs'] = [get_drug_list(row) for _, row in result_df.iterrows()]\n",
        "\n",
        "    result_df.drop(columns=drugs_encoded.columns, errors='ignore', inplace=True)\n",
        "\n",
        "    return result_df"
      ],
      "metadata": {
        "id": "PJ5P_87JsdIC"
      },
      "execution_count": null,
      "outputs": []
    },
    {
      "cell_type": "code",
      "source": [
        "X_train = impute_chemotherapy_drugs(X_train)"
      ],
      "metadata": {
        "id": "4EupcJCl054h"
      },
      "execution_count": null,
      "outputs": []
    },
    {
      "cell_type": "code",
      "source": [
        "X_test = impute_chemotherapy_drugs(X_test)"
      ],
      "metadata": {
        "id": "HDvM9kc0MLig"
      },
      "execution_count": null,
      "outputs": []
    },
    {
      "cell_type": "code",
      "source": [
        "print(X_train['Chemotherapy_Drugs'].isnull().sum())"
      ],
      "metadata": {
        "colab": {
          "base_uri": "https://localhost:8080/"
        },
        "id": "wHDJQlqV1GP-",
        "outputId": "6f14e71c-4ffd-4aca-ce31-53d43fa8014f"
      },
      "execution_count": null,
      "outputs": [
        {
          "output_type": "stream",
          "name": "stdout",
          "text": [
            "0\n"
          ]
        }
      ]
    },
    {
      "cell_type": "code",
      "source": [
        "print(X_test['Chemotherapy_Drugs'].isnull().sum())"
      ],
      "metadata": {
        "colab": {
          "base_uri": "https://localhost:8080/"
        },
        "id": "6MDu9NNlMR3_",
        "outputId": "ffe35001-7f12-48e4-e8af-7f16530eaef6"
      },
      "execution_count": null,
      "outputs": [
        {
          "output_type": "stream",
          "name": "stdout",
          "text": [
            "0\n"
          ]
        }
      ]
    },
    {
      "cell_type": "code",
      "source": [
        "X_train.isnull().sum()"
      ],
      "metadata": {
        "colab": {
          "base_uri": "https://localhost:8080/",
          "height": 920
        },
        "id": "Yxb1cXo3MYOA",
        "outputId": "d2d5b4d5-d7e2-4a94-fb7e-97c6051350f5"
      },
      "execution_count": null,
      "outputs": [
        {
          "output_type": "execute_result",
          "data": {
            "text/plain": [
              "id                      0\n",
              "Birth_Date              0\n",
              "Weight                  0\n",
              "Urban_Rural             0\n",
              "Occupation              0\n",
              "Insurance_Type          0\n",
              "Family_History          0\n",
              "Cancer_Type             0\n",
              "Stage_at_Diagnosis      0\n",
              "Diagnosis_Date          0\n",
              "Symptoms                0\n",
              "Tumor_Size              0\n",
              "Surgery_Date            0\n",
              "Chemotherapy_Drugs      0\n",
              "Radiation_Sessions      0\n",
              "Immunotherapy           0\n",
              "Targeted_Therapy        0\n",
              "Recurrence_Status       0\n",
              "Smoking_History         0\n",
              "Alcohol_Use             0\n",
              "Age                     0\n",
              "Height_m                0\n",
              "BMI                     0\n",
              "Had_Surgery             0\n",
              "Had_Chemotherapy        0\n",
              "time_to_surgery         0\n",
              "surgery_timing_group    0\n",
              "dtype: int64"
            ],
            "text/html": [
              "<div>\n",
              "<style scoped>\n",
              "    .dataframe tbody tr th:only-of-type {\n",
              "        vertical-align: middle;\n",
              "    }\n",
              "\n",
              "    .dataframe tbody tr th {\n",
              "        vertical-align: top;\n",
              "    }\n",
              "\n",
              "    .dataframe thead th {\n",
              "        text-align: right;\n",
              "    }\n",
              "</style>\n",
              "<table border=\"1\" class=\"dataframe\">\n",
              "  <thead>\n",
              "    <tr style=\"text-align: right;\">\n",
              "      <th></th>\n",
              "      <th>0</th>\n",
              "    </tr>\n",
              "  </thead>\n",
              "  <tbody>\n",
              "    <tr>\n",
              "      <th>id</th>\n",
              "      <td>0</td>\n",
              "    </tr>\n",
              "    <tr>\n",
              "      <th>Birth_Date</th>\n",
              "      <td>0</td>\n",
              "    </tr>\n",
              "    <tr>\n",
              "      <th>Weight</th>\n",
              "      <td>0</td>\n",
              "    </tr>\n",
              "    <tr>\n",
              "      <th>Urban_Rural</th>\n",
              "      <td>0</td>\n",
              "    </tr>\n",
              "    <tr>\n",
              "      <th>Occupation</th>\n",
              "      <td>0</td>\n",
              "    </tr>\n",
              "    <tr>\n",
              "      <th>Insurance_Type</th>\n",
              "      <td>0</td>\n",
              "    </tr>\n",
              "    <tr>\n",
              "      <th>Family_History</th>\n",
              "      <td>0</td>\n",
              "    </tr>\n",
              "    <tr>\n",
              "      <th>Cancer_Type</th>\n",
              "      <td>0</td>\n",
              "    </tr>\n",
              "    <tr>\n",
              "      <th>Stage_at_Diagnosis</th>\n",
              "      <td>0</td>\n",
              "    </tr>\n",
              "    <tr>\n",
              "      <th>Diagnosis_Date</th>\n",
              "      <td>0</td>\n",
              "    </tr>\n",
              "    <tr>\n",
              "      <th>Symptoms</th>\n",
              "      <td>0</td>\n",
              "    </tr>\n",
              "    <tr>\n",
              "      <th>Tumor_Size</th>\n",
              "      <td>0</td>\n",
              "    </tr>\n",
              "    <tr>\n",
              "      <th>Surgery_Date</th>\n",
              "      <td>0</td>\n",
              "    </tr>\n",
              "    <tr>\n",
              "      <th>Chemotherapy_Drugs</th>\n",
              "      <td>0</td>\n",
              "    </tr>\n",
              "    <tr>\n",
              "      <th>Radiation_Sessions</th>\n",
              "      <td>0</td>\n",
              "    </tr>\n",
              "    <tr>\n",
              "      <th>Immunotherapy</th>\n",
              "      <td>0</td>\n",
              "    </tr>\n",
              "    <tr>\n",
              "      <th>Targeted_Therapy</th>\n",
              "      <td>0</td>\n",
              "    </tr>\n",
              "    <tr>\n",
              "      <th>Recurrence_Status</th>\n",
              "      <td>0</td>\n",
              "    </tr>\n",
              "    <tr>\n",
              "      <th>Smoking_History</th>\n",
              "      <td>0</td>\n",
              "    </tr>\n",
              "    <tr>\n",
              "      <th>Alcohol_Use</th>\n",
              "      <td>0</td>\n",
              "    </tr>\n",
              "    <tr>\n",
              "      <th>Age</th>\n",
              "      <td>0</td>\n",
              "    </tr>\n",
              "    <tr>\n",
              "      <th>Height_m</th>\n",
              "      <td>0</td>\n",
              "    </tr>\n",
              "    <tr>\n",
              "      <th>BMI</th>\n",
              "      <td>0</td>\n",
              "    </tr>\n",
              "    <tr>\n",
              "      <th>Had_Surgery</th>\n",
              "      <td>0</td>\n",
              "    </tr>\n",
              "    <tr>\n",
              "      <th>Had_Chemotherapy</th>\n",
              "      <td>0</td>\n",
              "    </tr>\n",
              "    <tr>\n",
              "      <th>time_to_surgery</th>\n",
              "      <td>0</td>\n",
              "    </tr>\n",
              "    <tr>\n",
              "      <th>surgery_timing_group</th>\n",
              "      <td>0</td>\n",
              "    </tr>\n",
              "  </tbody>\n",
              "</table>\n",
              "</div><br><label><b>dtype:</b> int64</label>"
            ]
          },
          "metadata": {},
          "execution_count": 116
        }
      ]
    },
    {
      "cell_type": "code",
      "source": [
        "X_test.isnull().sum()"
      ],
      "metadata": {
        "colab": {
          "base_uri": "https://localhost:8080/",
          "height": 920
        },
        "id": "TBnSaxxmMbOw",
        "outputId": "2951235f-7ad8-43c7-a335-f94d649a961e"
      },
      "execution_count": null,
      "outputs": [
        {
          "output_type": "execute_result",
          "data": {
            "text/plain": [
              "id                      0\n",
              "Birth_Date              0\n",
              "Weight                  0\n",
              "Urban_Rural             0\n",
              "Occupation              0\n",
              "Insurance_Type          0\n",
              "Family_History          0\n",
              "Cancer_Type             0\n",
              "Stage_at_Diagnosis      0\n",
              "Diagnosis_Date          0\n",
              "Symptoms                0\n",
              "Tumor_Size              0\n",
              "Surgery_Date            0\n",
              "Chemotherapy_Drugs      0\n",
              "Radiation_Sessions      0\n",
              "Immunotherapy           0\n",
              "Targeted_Therapy        0\n",
              "Recurrence_Status       0\n",
              "Smoking_History         0\n",
              "Alcohol_Use             0\n",
              "Age                     0\n",
              "Height_m                0\n",
              "BMI                     0\n",
              "Had_Surgery             0\n",
              "Had_Chemotherapy        0\n",
              "time_to_surgery         0\n",
              "surgery_timing_group    0\n",
              "dtype: int64"
            ],
            "text/html": [
              "<div>\n",
              "<style scoped>\n",
              "    .dataframe tbody tr th:only-of-type {\n",
              "        vertical-align: middle;\n",
              "    }\n",
              "\n",
              "    .dataframe tbody tr th {\n",
              "        vertical-align: top;\n",
              "    }\n",
              "\n",
              "    .dataframe thead th {\n",
              "        text-align: right;\n",
              "    }\n",
              "</style>\n",
              "<table border=\"1\" class=\"dataframe\">\n",
              "  <thead>\n",
              "    <tr style=\"text-align: right;\">\n",
              "      <th></th>\n",
              "      <th>0</th>\n",
              "    </tr>\n",
              "  </thead>\n",
              "  <tbody>\n",
              "    <tr>\n",
              "      <th>id</th>\n",
              "      <td>0</td>\n",
              "    </tr>\n",
              "    <tr>\n",
              "      <th>Birth_Date</th>\n",
              "      <td>0</td>\n",
              "    </tr>\n",
              "    <tr>\n",
              "      <th>Weight</th>\n",
              "      <td>0</td>\n",
              "    </tr>\n",
              "    <tr>\n",
              "      <th>Urban_Rural</th>\n",
              "      <td>0</td>\n",
              "    </tr>\n",
              "    <tr>\n",
              "      <th>Occupation</th>\n",
              "      <td>0</td>\n",
              "    </tr>\n",
              "    <tr>\n",
              "      <th>Insurance_Type</th>\n",
              "      <td>0</td>\n",
              "    </tr>\n",
              "    <tr>\n",
              "      <th>Family_History</th>\n",
              "      <td>0</td>\n",
              "    </tr>\n",
              "    <tr>\n",
              "      <th>Cancer_Type</th>\n",
              "      <td>0</td>\n",
              "    </tr>\n",
              "    <tr>\n",
              "      <th>Stage_at_Diagnosis</th>\n",
              "      <td>0</td>\n",
              "    </tr>\n",
              "    <tr>\n",
              "      <th>Diagnosis_Date</th>\n",
              "      <td>0</td>\n",
              "    </tr>\n",
              "    <tr>\n",
              "      <th>Symptoms</th>\n",
              "      <td>0</td>\n",
              "    </tr>\n",
              "    <tr>\n",
              "      <th>Tumor_Size</th>\n",
              "      <td>0</td>\n",
              "    </tr>\n",
              "    <tr>\n",
              "      <th>Surgery_Date</th>\n",
              "      <td>0</td>\n",
              "    </tr>\n",
              "    <tr>\n",
              "      <th>Chemotherapy_Drugs</th>\n",
              "      <td>0</td>\n",
              "    </tr>\n",
              "    <tr>\n",
              "      <th>Radiation_Sessions</th>\n",
              "      <td>0</td>\n",
              "    </tr>\n",
              "    <tr>\n",
              "      <th>Immunotherapy</th>\n",
              "      <td>0</td>\n",
              "    </tr>\n",
              "    <tr>\n",
              "      <th>Targeted_Therapy</th>\n",
              "      <td>0</td>\n",
              "    </tr>\n",
              "    <tr>\n",
              "      <th>Recurrence_Status</th>\n",
              "      <td>0</td>\n",
              "    </tr>\n",
              "    <tr>\n",
              "      <th>Smoking_History</th>\n",
              "      <td>0</td>\n",
              "    </tr>\n",
              "    <tr>\n",
              "      <th>Alcohol_Use</th>\n",
              "      <td>0</td>\n",
              "    </tr>\n",
              "    <tr>\n",
              "      <th>Age</th>\n",
              "      <td>0</td>\n",
              "    </tr>\n",
              "    <tr>\n",
              "      <th>Height_m</th>\n",
              "      <td>0</td>\n",
              "    </tr>\n",
              "    <tr>\n",
              "      <th>BMI</th>\n",
              "      <td>0</td>\n",
              "    </tr>\n",
              "    <tr>\n",
              "      <th>Had_Surgery</th>\n",
              "      <td>0</td>\n",
              "    </tr>\n",
              "    <tr>\n",
              "      <th>Had_Chemotherapy</th>\n",
              "      <td>0</td>\n",
              "    </tr>\n",
              "    <tr>\n",
              "      <th>time_to_surgery</th>\n",
              "      <td>0</td>\n",
              "    </tr>\n",
              "    <tr>\n",
              "      <th>surgery_timing_group</th>\n",
              "      <td>0</td>\n",
              "    </tr>\n",
              "  </tbody>\n",
              "</table>\n",
              "</div><br><label><b>dtype:</b> int64</label>"
            ]
          },
          "metadata": {},
          "execution_count": 117
        }
      ]
    },
    {
      "cell_type": "markdown",
      "source": [
        "## 4.3 Scaling and Encoding"
      ],
      "metadata": {
        "id": "xAVxcKoUZYmP"
      }
    },
    {
      "cell_type": "code",
      "source": [
        "X_train.drop([\"id\", \"Birth_Date\", \"Surgery_Date\", \"Had_Surgery\",\n",
        "              \"Had_Chemotherapy\", \"Diagnosis_Date\"],\n",
        "             axis=1, inplace=True)"
      ],
      "metadata": {
        "id": "10JLTG0mZjxD"
      },
      "execution_count": null,
      "outputs": []
    },
    {
      "cell_type": "code",
      "source": [
        "def identify_column_types(df: pd.DataFrame) -> pd.DataFrame:\n",
        "    column_types = {\n",
        "        'numerical': df.select_dtypes(include=['int64', 'float64']).columns,\n",
        "        'binary': [],\n",
        "        'single_categorical': [],\n",
        "        'multi_categorical': []\n",
        "    }\n",
        "\n",
        "    for col in df.select_dtypes(include=['object']).columns:\n",
        "        is_multi_cat = col == 'Chemotherapy_Drugs'\n",
        "\n",
        "        if is_multi_cat:\n",
        "            column_types['multi_categorical'].append(col)\n",
        "        else:\n",
        "            unique_count = df[col].nunique()\n",
        "            if unique_count == 2:\n",
        "                column_types['binary'].append(col)\n",
        "            elif unique_count < 10:  # Threshold for single categorical\n",
        "                column_types['single_categorical'].append(col)\n",
        "\n",
        "    return column_types"
      ],
      "metadata": {
        "id": "uq_g3bKcamSa"
      },
      "execution_count": null,
      "outputs": []
    },
    {
      "cell_type": "code",
      "source": [
        "def scaling_numerical_columns(df, column_types):\n",
        "  processed_df = df.copy()\n",
        "  scaler = StandardScaler()\n",
        "  processed_df[column_types['numerical']] = scaler.fit_transform(processed_df[column_types['numerical']])\n",
        "\n",
        "  return processed_df"
      ],
      "metadata": {
        "id": "LcxHFivQbZ9m"
      },
      "execution_count": null,
      "outputs": []
    },
    {
      "cell_type": "code",
      "source": [
        "def encoding_categorical_columns(df, column_types):\n",
        "    processed_df = df.copy()\n",
        "\n",
        "    for col in column_types['multi_categorical']:\n",
        "\n",
        "        mlb = MultiLabelBinarizer()\n",
        "        multi_encoded = mlb.fit_transform(processed_df[col])\n",
        "\n",
        "        multi_cols = [f\"{col}_{cat}\" for cat in mlb.classes_]\n",
        "        multi_encoded_df = pd.DataFrame(multi_encoded, columns=multi_cols, index=processed_df.index)\n",
        "\n",
        "        processed_df = processed_df.drop(columns=[col])\n",
        "        processed_df = pd.concat([processed_df, multi_encoded_df], axis=1)\n",
        "\n",
        "\n",
        "    for col in column_types['binary']:\n",
        "        le = LabelEncoder()\n",
        "        processed_df[col] = le.fit_transform(processed_df[col])\n",
        "\n",
        "    for col in column_types['single_categorical']:\n",
        "        one_hot = pd.get_dummies(processed_df[col], prefix=col)\n",
        "        processed_df = processed_df.drop(columns=[col])\n",
        "        processed_df = pd.concat([processed_df, one_hot], axis=1)\n",
        "\n",
        "    return processed_df"
      ],
      "metadata": {
        "id": "1tuuxRztbMrC"
      },
      "execution_count": null,
      "outputs": []
    },
    {
      "cell_type": "code",
      "source": [
        "column_types = identify_column_types(X_train)"
      ],
      "metadata": {
        "id": "ToKbRECkcUgT"
      },
      "execution_count": null,
      "outputs": []
    },
    {
      "cell_type": "code",
      "source": [
        "X_train = scaling_numerical_columns(X_train, column_types)"
      ],
      "metadata": {
        "id": "aRwNVoLadAS6"
      },
      "execution_count": null,
      "outputs": []
    },
    {
      "cell_type": "code",
      "source": [
        "X_train = encoding_categorical_columns(X_train, column_types)"
      ],
      "metadata": {
        "id": "_HXc8GVwdaN1"
      },
      "execution_count": null,
      "outputs": []
    },
    {
      "cell_type": "code",
      "source": [
        "X_test = scaling_numerical_columns(X_test, column_types)"
      ],
      "metadata": {
        "id": "4Hid0iL0erap"
      },
      "execution_count": null,
      "outputs": []
    },
    {
      "cell_type": "code",
      "source": [
        "X_test = encoding_categorical_columns(X_test, column_types)"
      ],
      "metadata": {
        "id": "vAIRE0efeq3f"
      },
      "execution_count": null,
      "outputs": []
    },
    {
      "cell_type": "markdown",
      "source": [
        "## 4.4 Feature Selection"
      ],
      "metadata": {
        "id": "iXe1by8PW5OG"
      }
    },
    {
      "cell_type": "markdown",
      "source": [
        "### 4.4.1 Univariate Feature Selection"
      ],
      "metadata": {
        "id": "JC_N8hlJfAfd"
      }
    },
    {
      "cell_type": "markdown",
      "source": [
        "Univariate feature selection evaluates each feature individually to determine its statistical relationship with the target variable using simple statistical tests like ANOVA F-test (f_classif) or chi-squared (chi2). It selects the top features based on these scores without considering feature interactions. This method is fast, easy to interpret, and useful when working with high-dimensional data, but it may overlook features that are only informative when combined with others."
      ],
      "metadata": {
        "id": "oZB22e1ZfDBR"
      }
    },
    {
      "cell_type": "code",
      "source": [
        "def univariate_feature_selection(X, y, k=10):\n",
        "    selector = SelectKBest(score_func=f_classif, k=k)\n",
        "    selector.fit(X, y)\n",
        "    selected_features = X.columns[selector.get_support()]\n",
        "    scores = pd.DataFrame({'Feature': X.columns, 'F_Score': selector.scores_})\n",
        "    return selected_features, scores.sort_values('F_Score', ascending=False)"
      ],
      "metadata": {
        "id": "d7kb9EpRfEos"
      },
      "execution_count": null,
      "outputs": []
    },
    {
      "cell_type": "code",
      "source": [
        "anova_features = set(univariate_feature_selection(X_train, y_train, k=15)[0])"
      ],
      "metadata": {
        "id": "vFLQOAjyfFN_"
      },
      "execution_count": null,
      "outputs": []
    },
    {
      "cell_type": "markdown",
      "source": [
        "### 4.4.2 Mutual Information Selection"
      ],
      "metadata": {
        "id": "m7znEjXsfId_"
      }
    },
    {
      "cell_type": "markdown",
      "source": [
        "Mutual Information feature selection estimates how much information a feature provides about the target variable, capturing both linear and non-linear dependencies. Unlike univariate tests, it can detect subtle and complex relationships between features and the target. It's especially effective when the relationships are not strictly linear, although it can be computationally heavier and less interpretable compared to simpler tests.\n"
      ],
      "metadata": {
        "id": "CyLmwzVRfUmk"
      }
    },
    {
      "cell_type": "code",
      "source": [
        "def mutual_info_selection(X, y, k=10):\n",
        "    mi_scores = mutual_info_classif(X, y)\n",
        "    mi_df = pd.DataFrame({'Feature': X.columns, 'MI_Score': mi_scores})\n",
        "    top_features = mi_df.nlargest(k, 'MI_Score')['Feature'].values\n",
        "    return top_features, mi_df.sort_values('MI_Score', ascending=False)"
      ],
      "metadata": {
        "id": "Fp2-r5MOfZEu"
      },
      "execution_count": null,
      "outputs": []
    },
    {
      "cell_type": "code",
      "source": [
        "mi_features = set(mutual_info_selection(X_train, y_train, k=15)[0])"
      ],
      "metadata": {
        "id": "47TukHAefbla"
      },
      "execution_count": null,
      "outputs": []
    },
    {
      "cell_type": "markdown",
      "source": [
        "### 4.3.3 Random Forest Feature Importance"
      ],
      "metadata": {
        "id": "UFYhMMHhfdBL"
      }
    },
    {
      "cell_type": "markdown",
      "source": [
        "Random Forest feature selection uses an ensemble of decision trees to determine the importance of each feature by measuring how much each one improves the model’s accuracy or reduces impurity when used in splits. It inherently captures non-linear relationships and feature interactions, making it a powerful and robust method for evaluating feature usefulness. However, it may be biased toward features with more levels or higher variance."
      ],
      "metadata": {
        "id": "Xv6Z3KYJfnZl"
      }
    },
    {
      "cell_type": "code",
      "source": [
        "def rf_feature_importance(X, y, n_estimators=100):\n",
        "    rf = RandomForestClassifier(n_estimators=n_estimators, random_state=42)\n",
        "    rf.fit(X, y)\n",
        "    importance_df = pd.DataFrame({'Feature': X.columns,\n",
        "                                'Importance': rf.feature_importances_})\n",
        "    return importance_df.sort_values('Importance', ascending=False)"
      ],
      "metadata": {
        "id": "h7esA-i2fv64"
      },
      "execution_count": null,
      "outputs": []
    },
    {
      "cell_type": "code",
      "source": [
        "rf_features = set(rf_feature_importance(X_train, y_train).head(15)['Feature'])"
      ],
      "metadata": {
        "id": "zgtFl3C3fzYz"
      },
      "execution_count": null,
      "outputs": []
    },
    {
      "cell_type": "markdown",
      "source": [
        "# **5. Model Implementation and Evaluation**"
      ],
      "metadata": {
        "id": "t8YY0yDxgTku"
      }
    },
    {
      "cell_type": "markdown",
      "source": [
        "We Experiment with various binary classification\n",
        "algorithms suitable for this task (Logistic Regression, SVM, Decision Trees). Compare their performance using appropriate validation strategies and select the model that yields the highest Accuracy on your validation set.\n",
        "\n",
        "\n",
        "W also calculate and log Precision, Recall, and F1-Score during our model\n",
        "development process. These metrics provide a more nuanced understanding of our model's strengths and weaknesses."
      ],
      "metadata": {
        "id": "Cw5QQn5JgjFI"
      }
    },
    {
      "cell_type": "code",
      "source": [
        "models = {\n",
        "    'Logistic Regression': LogisticRegression(max_iter=3000,\n",
        "                                              random_state=RANDOM_SEED),\n",
        "    'SVM': SVC(random_state=RANDOM_SEED),\n",
        "    'Decision Tree': DecisionTreeClassifier(random_state=RANDOM_SEED),\n",
        "    'Random Forest': RandomForestClassifier(random_state=RANDOM_SEED)\n",
        "}\n",
        "\n",
        "feature_sets = {\n",
        "    'RF_Features': list(rf_features),\n",
        "    'MI_Features': list(mi_features),\n",
        "    'ANOVA_Features': list(anova_features),\n",
        "}\n",
        "\n",
        "\n",
        "results = []\n",
        "\n",
        "\n",
        "\n",
        "for feature_set_name, features in feature_sets.items():\n",
        "    print(f\"\\n=== Evaluating {feature_set_name} ===\")\n",
        "    print(f\"Features used: {features}\")\n",
        "\n",
        "    X_train_fs = X_train[features].copy()\n",
        "    X_test_fs = X_test[features].copy()\n",
        "\n",
        "    for model_name, model in models.items():\n",
        "        model.fit(X_train_fs, y_train)\n",
        "\n",
        "        y_pred = model.predict(X_test_fs)\n",
        "\n",
        "        accuracy = accuracy_score(y_test, y_pred)\n",
        "        precision = precision_score(y_test, y_pred)\n",
        "        recall = recall_score(y_test, y_pred)\n",
        "        f1 = f1_score(y_test, y_pred)\n",
        "\n",
        "        cv_scores = cross_val_score(model, X_train_fs, y_train, cv=5, scoring='accuracy')\n",
        "        cv_mean = cv_scores.mean()\n",
        "\n",
        "        results.append({\n",
        "            'Feature Set': feature_set_name,\n",
        "            'Model': model_name,\n",
        "            'Accuracy': accuracy,\n",
        "            'Precision': precision,\n",
        "            'Recall': recall,\n",
        "            'F1': f1,\n",
        "            'CV Mean Accuracy': cv_mean,\n",
        "            'Num Features': len(features)\n",
        "        })\n",
        "\n",
        "\n",
        "        print(f\"{model_name}:\")\n",
        "        print(f\"  Accuracy: {accuracy:.3f}, Precision: {precision:.3f}, Recall: {recall:.3f}, F1: {f1:.3f}\")\n",
        "        print(f\"  CV Accuracy: {cv_mean:.3f}\")\n",
        "\n",
        "\n",
        "results_df = pd.DataFrame(results)\n",
        "\n",
        "best_model_idx = results_df['Accuracy'].idxmax()\n",
        "best_model = results_df.loc[best_model_idx]\n",
        "\n",
        "print(\"\\n=== Final Results ===\")\n",
        "print(results_df.sort_values('Accuracy', ascending=False).head())\n",
        "\n",
        "print(\"\\n=== Best Model ===\")\n",
        "print(f\"Feature Set: {best_model['Feature Set']}\")\n",
        "print(f\"Model: {best_model['Model']}\")\n",
        "print(f\"Accuracy: {best_model['Accuracy']:.3f}\")\n",
        "print(f\"Precision: {best_model['Precision']:.3f}\")\n",
        "print(f\"Recall: {best_model['Recall']:.3f}\")\n",
        "print(f\"F1-Score: {best_model['F1']:.3f}\")\n",
        "print(f\"CV Accuracy: {best_model['CV Mean Accuracy']:.3f}\")\n",
        "print(f\"Number of Features: {best_model['Num Features']}\")"
      ],
      "metadata": {
        "colab": {
          "base_uri": "https://localhost:8080/"
        },
        "id": "11Cao3N8g3qQ",
        "outputId": "97307a5a-9155-45bc-ab4f-d3e108e2b0c0"
      },
      "execution_count": null,
      "outputs": [
        {
          "output_type": "stream",
          "name": "stdout",
          "text": [
            "\n",
            "=== Evaluating RF_Features ===\n",
            "Features used: ['Age', 'Radiation_Sessions', 'Chemotherapy_Drugs_Fluorouracil', 'time_to_surgery', 'Smoking_History_Current', 'Stage_at_Diagnosis_IV', 'surgery_timing_group', 'Alcohol_Use_Regular', 'Weight', 'Stage_at_Diagnosis_II', 'Smoking_History_Never', 'Tumor_Size', 'BMI', 'Alcohol_Use_Never', 'Height_m']\n",
            "Logistic Regression:\n",
            "  Accuracy: 0.637, Precision: 0.626, Recall: 0.627, F1: 0.626\n",
            "  CV Accuracy: 0.630\n",
            "SVM:\n",
            "  Accuracy: 0.733, Precision: 0.725, Recall: 0.726, F1: 0.725\n",
            "  CV Accuracy: 0.740\n",
            "Decision Tree:\n",
            "  Accuracy: 0.683, Precision: 0.679, Recall: 0.660, F1: 0.670\n",
            "  CV Accuracy: 0.688\n",
            "Random Forest:\n",
            "  Accuracy: 0.739, Precision: 0.739, Recall: 0.715, F1: 0.727\n",
            "  CV Accuracy: 0.749\n",
            "\n",
            "=== Evaluating MI_Features ===\n",
            "Features used: ['Stage_at_Diagnosis_III', 'Stage_at_Diagnosis_I', 'Cancer_Type_Lung', 'Chemotherapy_Drugs_Doxorubicin', 'Radiation_Sessions', 'Tumor_Size', 'Stage_at_Diagnosis_II', 'Stage_at_Diagnosis_IV', 'Cancer_Type_Breast', 'Alcohol_Use_Regular', 'Weight', 'Insurance_Type_UEBMI', 'Chemotherapy_Drugs_Carboplatin', 'Smoking_History_Current', 'BMI']\n",
            "Logistic Regression:\n",
            "  Accuracy: 0.644, Precision: 0.634, Recall: 0.631, F1: 0.632\n",
            "  CV Accuracy: 0.649\n",
            "SVM:\n",
            "  Accuracy: 0.720, Precision: 0.684, Recall: 0.788, F1: 0.732\n",
            "  CV Accuracy: 0.724\n",
            "Decision Tree:\n",
            "  Accuracy: 0.653, Precision: 0.640, Recall: 0.650, F1: 0.645\n",
            "  CV Accuracy: 0.677\n",
            "Random Forest:\n",
            "  Accuracy: 0.725, Precision: 0.717, Recall: 0.718, F1: 0.718\n",
            "  CV Accuracy: 0.727\n",
            "\n",
            "=== Evaluating ANOVA_Features ===\n",
            "Features used: ['Stage_at_Diagnosis_III', 'BMI', 'Age', 'Stage_at_Diagnosis_I', 'Radiation_Sessions', 'Chemotherapy_Drugs_Doxorubicin', 'Cancer_Type_Lung', 'Chemotherapy_Drugs_Fluorouracil', 'Stage_at_Diagnosis_II', 'Stage_at_Diagnosis_IV', 'Smoking_History_Current', 'Alcohol_Use_Regular', 'Chemotherapy_Drugs_Carboplatin', 'Weight', 'Chemotherapy_Drugs_Cyclophosphamide']\n",
            "Logistic Regression:\n",
            "  Accuracy: 0.653, Precision: 0.644, Recall: 0.640, F1: 0.642\n",
            "  CV Accuracy: 0.657\n",
            "SVM:\n",
            "  Accuracy: 0.738, Precision: 0.708, Recall: 0.786, F1: 0.745\n",
            "  CV Accuracy: 0.750\n",
            "Decision Tree:\n",
            "  Accuracy: 0.674, Precision: 0.658, Recall: 0.685, F1: 0.671\n",
            "  CV Accuracy: 0.686\n",
            "Random Forest:\n",
            "  Accuracy: 0.744, Precision: 0.737, Recall: 0.736, F1: 0.736\n",
            "  CV Accuracy: 0.759\n",
            "\n",
            "=== Final Results ===\n",
            "       Feature Set          Model  Accuracy  Precision    Recall        F1  \\\n",
            "11  ANOVA_Features  Random Forest  0.743909   0.736760  0.735614  0.736187   \n",
            "3      RF_Features  Random Forest  0.738810   0.739043  0.714619  0.726626   \n",
            "9   ANOVA_Features            SVM  0.738244   0.707633  0.785770  0.744657   \n",
            "1      RF_Features            SVM  0.732956   0.724942  0.725505  0.725223   \n",
            "7      MI_Features  Random Forest  0.725401   0.717003  0.718118  0.717560   \n",
            "\n",
            "    CV Mean Accuracy  Num Features  \n",
            "11          0.758853            15  \n",
            "3           0.748748            15  \n",
            "9           0.750117            15  \n",
            "1           0.740485            15  \n",
            "7           0.726602            15  \n",
            "\n",
            "=== Best Model ===\n",
            "Feature Set: ANOVA_Features\n",
            "Model: Random Forest\n",
            "Accuracy: 0.744\n",
            "Precision: 0.737\n",
            "Recall: 0.736\n",
            "F1-Score: 0.736\n",
            "CV Accuracy: 0.759\n",
            "Number of Features: 15\n"
          ]
        }
      ]
    }
  ]
}